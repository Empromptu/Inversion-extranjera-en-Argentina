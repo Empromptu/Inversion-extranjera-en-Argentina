{
 "cells": [
  {
   "cell_type": "markdown",
   "metadata": {},
   "source": [
    "<h1>Cuaderno de notas TP1 laboratorio de Datos</h1>"
   ]
  },
  {
   "cell_type": "code",
   "execution_count": 1,
   "metadata": {},
   "outputs": [],
   "source": [
    "import pandas as pd\n",
    "import numpy as np\n",
    "import matplotlib.pyplot as plt\n",
    "import seaborn as sns\n",
    "from inline_sql import sql, sql_val"
   ]
  },
  {
   "cell_type": "markdown",
   "metadata": {},
   "source": [
    "<h2>Importamos las tablas de datos</h2>"
   ]
  },
  {
   "cell_type": "code",
   "execution_count": 2,
   "metadata": {},
   "outputs": [
    {
     "name": "stderr",
     "output_type": "stream",
     "text": [
      "C:\\Users\\guido\\AppData\\Local\\Temp\\ipykernel_12476\\3730857540.py:2: ParserWarning: Skipping line 16: expected 37 fields, saw 38\n",
      "\n",
      "  df_sedes_completo = pd.read_csv(direccion + 'lista-sedes-datos.csv', on_bad_lines=\"warn\")\n"
     ]
    }
   ],
   "source": [
    "direccion = './TablasOriginales/'\n",
    "df_sedes_completo = pd.read_csv(direccion + 'lista-sedes-datos.csv', on_bad_lines=\"warn\")\n",
    "# se agrega on_bad_lines, pues hay un error en la linea 16 del csv, con esto se logra ignorarla\n",
    "df_sedes = pd.read_csv(direccion + 'lista-sedes.csv')\n",
    "df_secciones = pd.read_csv(direccion + 'lista-secciones.csv')\n",
    "archivo_inversiones = 'flujos-monetarios-netos-inversion-extranjera-directa.csv'\n",
    "df_IED = pd.read_csv(direccion + archivo_inversiones, index_col=\"indice_tiempo\").T # IED = Inversion Extranjera Directa\n",
    "df_paises = pd.read_csv(direccion + 'paises.csv')"
   ]
  },
  {
   "cell_type": "markdown",
   "metadata": {},
   "source": [
    "Para una descripcion mas completa de cada columna visitar ver los links en las indicaciones del TP"
   ]
  },
  {
   "cell_type": "markdown",
   "metadata": {},
   "source": [
    "<hr>"
   ]
  },
  {
   "cell_type": "markdown",
   "metadata": {},
   "source": [
    "<h2>Veamos las propiedades de cada tabla</h2>"
   ]
  },
  {
   "cell_type": "markdown",
   "metadata": {},
   "source": [
    "<h3>data frame de sedes</h3>"
   ]
  },
  {
   "cell_type": "code",
   "execution_count": 3,
   "metadata": {},
   "outputs": [
    {
     "name": "stdout",
     "output_type": "stream",
     "text": [
      "<class 'pandas.core.frame.DataFrame'>\n",
      "RangeIndex: 164 entries, 0 to 163\n",
      "Data columns (total 11 columns):\n",
      " #   Column                Non-Null Count  Dtype \n",
      "---  ------                --------------  ----- \n",
      " 0   sede_id               164 non-null    object\n",
      " 1   sede_desc_castellano  164 non-null    object\n",
      " 2   sede_desc_ingles      164 non-null    object\n",
      " 3   pais_iso_2            164 non-null    object\n",
      " 4   pais_iso_3            164 non-null    object\n",
      " 5   pais_castellano       164 non-null    object\n",
      " 6   pais_ingles           164 non-null    object\n",
      " 7   ciudad_castellano     164 non-null    object\n",
      " 8   ciudad_ingles         164 non-null    object\n",
      " 9   estado                164 non-null    object\n",
      " 10  sede_tipo             164 non-null    object\n",
      "dtypes: object(11)\n",
      "memory usage: 14.2+ KB\n"
     ]
    }
   ],
   "source": [
    "df_sedes.info()"
   ]
  },
  {
   "cell_type": "code",
   "execution_count": 4,
   "metadata": {},
   "outputs": [
    {
     "data": {
      "text/html": [
       "<div>\n",
       "<style scoped>\n",
       "    .dataframe tbody tr th:only-of-type {\n",
       "        vertical-align: middle;\n",
       "    }\n",
       "\n",
       "    .dataframe tbody tr th {\n",
       "        vertical-align: top;\n",
       "    }\n",
       "\n",
       "    .dataframe thead th {\n",
       "        text-align: right;\n",
       "    }\n",
       "</style>\n",
       "<table border=\"1\" class=\"dataframe\">\n",
       "  <thead>\n",
       "    <tr style=\"text-align: right;\">\n",
       "      <th></th>\n",
       "      <th>sede_id</th>\n",
       "      <th>sede_desc_castellano</th>\n",
       "      <th>sede_desc_ingles</th>\n",
       "      <th>pais_iso_2</th>\n",
       "      <th>pais_iso_3</th>\n",
       "      <th>pais_castellano</th>\n",
       "      <th>pais_ingles</th>\n",
       "      <th>ciudad_castellano</th>\n",
       "      <th>ciudad_ingles</th>\n",
       "      <th>estado</th>\n",
       "      <th>sede_tipo</th>\n",
       "    </tr>\n",
       "  </thead>\n",
       "  <tbody>\n",
       "    <tr>\n",
       "      <th>0</th>\n",
       "      <td>CALEG</td>\n",
       "      <td>Consulado  General  en  Porto  Alegre</td>\n",
       "      <td>Consulate  General  in  PORTO  ALEGRE</td>\n",
       "      <td>BR</td>\n",
       "      <td>BRA</td>\n",
       "      <td>REPÚBLICA  FEDERATIVA  DEL  BRASIL</td>\n",
       "      <td>FEDERATIVE  REPUBLIC  OF  BRAZIL</td>\n",
       "      <td>Porto  Alegre</td>\n",
       "      <td>Porto  Alegre</td>\n",
       "      <td>Activo</td>\n",
       "      <td>Consulado</td>\n",
       "    </tr>\n",
       "    <tr>\n",
       "      <th>1</th>\n",
       "      <td>CANTO</td>\n",
       "      <td>Consulado  en  Antofagasta</td>\n",
       "      <td>Consulate  in  ANTOFAGASTA</td>\n",
       "      <td>CL</td>\n",
       "      <td>CHL</td>\n",
       "      <td>REPÚBLICA  DE  CHILE</td>\n",
       "      <td>REPUBLIC  OF  CHILE</td>\n",
       "      <td>Antofagasta</td>\n",
       "      <td>Antofagasta</td>\n",
       "      <td>Activo</td>\n",
       "      <td>Consulado</td>\n",
       "    </tr>\n",
       "    <tr>\n",
       "      <th>2</th>\n",
       "      <td>CAREN</td>\n",
       "      <td>Consulado  General  en  Punta  Arenas</td>\n",
       "      <td>Consulate  General  in  Punta  Arenas</td>\n",
       "      <td>CL</td>\n",
       "      <td>CHL</td>\n",
       "      <td>REPÚBLICA  DE  CHILE</td>\n",
       "      <td>REPUBLIC  OF  CHILE</td>\n",
       "      <td>Punta  Arenas</td>\n",
       "      <td>Punta  Arenas</td>\n",
       "      <td>Activo</td>\n",
       "      <td>Consulado</td>\n",
       "    </tr>\n",
       "    <tr>\n",
       "      <th>3</th>\n",
       "      <td>CASUN</td>\n",
       "      <td>Consulado  General  en  Asunción</td>\n",
       "      <td>Consulate  General  in  Asuncion</td>\n",
       "      <td>PY</td>\n",
       "      <td>PRY</td>\n",
       "      <td>REPÚBLICA  DEL  PARAGUAY</td>\n",
       "      <td>REPUBLIC  OF  PARAGUAY</td>\n",
       "      <td>Asunción</td>\n",
       "      <td>Asuncion</td>\n",
       "      <td>Activo</td>\n",
       "      <td>Consulado</td>\n",
       "    </tr>\n",
       "    <tr>\n",
       "      <th>4</th>\n",
       "      <td>CATLA</td>\n",
       "      <td>Consulado  General  en  Atlanta</td>\n",
       "      <td>Consulate  General  in  Atlanta</td>\n",
       "      <td>US</td>\n",
       "      <td>USA</td>\n",
       "      <td>Estados  Unidos  de  América</td>\n",
       "      <td>UNITED  STATES  OF  AMERICA</td>\n",
       "      <td>Atlanta</td>\n",
       "      <td>Atlanta</td>\n",
       "      <td>Activo</td>\n",
       "      <td>Consulado</td>\n",
       "    </tr>\n",
       "  </tbody>\n",
       "</table>\n",
       "</div>"
      ],
      "text/plain": [
       "  sede_id                   sede_desc_castellano  \\\n",
       "0   CALEG  Consulado  General  en  Porto  Alegre   \n",
       "1   CANTO             Consulado  en  Antofagasta   \n",
       "2   CAREN  Consulado  General  en  Punta  Arenas   \n",
       "3   CASUN       Consulado  General  en  Asunción   \n",
       "4   CATLA        Consulado  General  en  Atlanta   \n",
       "\n",
       "                        sede_desc_ingles pais_iso_2 pais_iso_3  \\\n",
       "0  Consulate  General  in  PORTO  ALEGRE         BR        BRA   \n",
       "1             Consulate  in  ANTOFAGASTA         CL        CHL   \n",
       "2  Consulate  General  in  Punta  Arenas         CL        CHL   \n",
       "3       Consulate  General  in  Asuncion         PY        PRY   \n",
       "4        Consulate  General  in  Atlanta         US        USA   \n",
       "\n",
       "                      pais_castellano                       pais_ingles  \\\n",
       "0  REPÚBLICA  FEDERATIVA  DEL  BRASIL  FEDERATIVE  REPUBLIC  OF  BRAZIL   \n",
       "1                REPÚBLICA  DE  CHILE               REPUBLIC  OF  CHILE   \n",
       "2                REPÚBLICA  DE  CHILE               REPUBLIC  OF  CHILE   \n",
       "3            REPÚBLICA  DEL  PARAGUAY            REPUBLIC  OF  PARAGUAY   \n",
       "4        Estados  Unidos  de  América       UNITED  STATES  OF  AMERICA   \n",
       "\n",
       "  ciudad_castellano  ciudad_ingles  estado  sede_tipo  \n",
       "0     Porto  Alegre  Porto  Alegre  Activo  Consulado  \n",
       "1       Antofagasta    Antofagasta  Activo  Consulado  \n",
       "2     Punta  Arenas  Punta  Arenas  Activo  Consulado  \n",
       "3          Asunción       Asuncion  Activo  Consulado  \n",
       "4           Atlanta        Atlanta  Activo  Consulado  "
      ]
     },
     "execution_count": 4,
     "metadata": {},
     "output_type": "execute_result"
    }
   ],
   "source": [
    "df_sedes.head()"
   ]
  },
  {
   "cell_type": "markdown",
   "metadata": {},
   "source": [
    "**resumen:** \n",
    "* no falta ningun campo, es decir, no hay Nulls\n",
    "* hay columnas de las cuales podemos prescindir para el objetivo de este TP (por ejemplo, podriamos eliminar las columnas en ingles)\n",
    "* todos los campos se de tipo 'string'"
   ]
  },
  {
   "cell_type": "markdown",
   "metadata": {},
   "source": [
    "<h3>data frame sedes completo</h3>"
   ]
  },
  {
   "cell_type": "code",
   "execution_count": 5,
   "metadata": {},
   "outputs": [
    {
     "name": "stdout",
     "output_type": "stream",
     "text": [
      "<class 'pandas.core.frame.DataFrame'>\n",
      "RangeIndex: 163 entries, 0 to 162\n",
      "Data columns (total 37 columns):\n",
      " #   Column                            Non-Null Count  Dtype  \n",
      "---  ------                            --------------  -----  \n",
      " 0   sede_id                           163 non-null    object \n",
      " 1   sede_desc_castellano              163 non-null    object \n",
      " 2   sede_desc_ingles                  163 non-null    object \n",
      " 3   pais_castellano                   163 non-null    object \n",
      " 4   pais_ingles                       163 non-null    object \n",
      " 5   region_geografica                 163 non-null    object \n",
      " 6   pais_iso_2                        163 non-null    object \n",
      " 7   pais_iso_3                        163 non-null    object \n",
      " 8   pais_codigo_telefonico            163 non-null    int64  \n",
      " 9   ciudad_castellano                 163 non-null    object \n",
      " 10  ciudad_ingles                     163 non-null    object \n",
      " 11  ciudad_zona_horaria_gmt           162 non-null    float64\n",
      " 12  ciudad_codigo_telefonico          151 non-null    float64\n",
      " 13  estado                            163 non-null    object \n",
      " 14  titular_nombre                    162 non-null    object \n",
      " 15  titular_apellido                  162 non-null    object \n",
      " 16  titular_cargo                     162 non-null    object \n",
      " 17  direccion                         163 non-null    object \n",
      " 18  codigo_postal                     161 non-null    object \n",
      " 19  telefono_principal                163 non-null    object \n",
      " 20  telefonos_adicionales             96 non-null     object \n",
      " 21  celular_guardia                   162 non-null    object \n",
      " 22  celulares_adicionales             7 non-null      object \n",
      " 23  fax_principal                     118 non-null    object \n",
      " 24  faxes_adicionales                 4 non-null      object \n",
      " 25  correo_electronico                160 non-null    object \n",
      " 26  correos_electronicos_adicionales  28 non-null     object \n",
      " 27  sitio_web                         161 non-null    object \n",
      " 28  sitios_web_adicionales            0 non-null      float64\n",
      " 29  redes_sociales                    126 non-null    object \n",
      " 30  atencion_dia_desde                103 non-null    object \n",
      " 31  atencion_dia_hasta                103 non-null    object \n",
      " 32  atencion_hora_desde               117 non-null    object \n",
      " 33  atencion_hora_hasta               117 non-null    object \n",
      " 34  atencion_comentario               115 non-null    object \n",
      " 35  concurrencias                     42 non-null     object \n",
      " 36  circunscripcion                   146 non-null    object \n",
      "dtypes: float64(3), int64(1), object(33)\n",
      "memory usage: 47.2+ KB\n"
     ]
    }
   ],
   "source": [
    "df_sedes_completo.info()"
   ]
  },
  {
   "cell_type": "code",
   "execution_count": 6,
   "metadata": {},
   "outputs": [
    {
     "data": {
      "text/html": [
       "<div>\n",
       "<style scoped>\n",
       "    .dataframe tbody tr th:only-of-type {\n",
       "        vertical-align: middle;\n",
       "    }\n",
       "\n",
       "    .dataframe tbody tr th {\n",
       "        vertical-align: top;\n",
       "    }\n",
       "\n",
       "    .dataframe thead th {\n",
       "        text-align: right;\n",
       "    }\n",
       "</style>\n",
       "<table border=\"1\" class=\"dataframe\">\n",
       "  <thead>\n",
       "    <tr style=\"text-align: right;\">\n",
       "      <th></th>\n",
       "      <th>sede_id</th>\n",
       "      <th>sede_desc_castellano</th>\n",
       "      <th>sede_desc_ingles</th>\n",
       "      <th>pais_castellano</th>\n",
       "      <th>pais_ingles</th>\n",
       "      <th>region_geografica</th>\n",
       "      <th>pais_iso_2</th>\n",
       "      <th>pais_iso_3</th>\n",
       "      <th>pais_codigo_telefonico</th>\n",
       "      <th>ciudad_castellano</th>\n",
       "      <th>...</th>\n",
       "      <th>sitio_web</th>\n",
       "      <th>sitios_web_adicionales</th>\n",
       "      <th>redes_sociales</th>\n",
       "      <th>atencion_dia_desde</th>\n",
       "      <th>atencion_dia_hasta</th>\n",
       "      <th>atencion_hora_desde</th>\n",
       "      <th>atencion_hora_hasta</th>\n",
       "      <th>atencion_comentario</th>\n",
       "      <th>concurrencias</th>\n",
       "      <th>circunscripcion</th>\n",
       "    </tr>\n",
       "  </thead>\n",
       "  <tbody>\n",
       "    <tr>\n",
       "      <th>0</th>\n",
       "      <td>CALEG</td>\n",
       "      <td>Consulado  General  en  Porto  Alegre</td>\n",
       "      <td>Consulate  General  in  PORTO  ALEGRE</td>\n",
       "      <td>REPÚBLICA  FEDERATIVA  DEL  BRASIL</td>\n",
       "      <td>FEDERATIVE  REPUBLIC  OF  BRAZIL</td>\n",
       "      <td>AMÉRICA  DEL  SUR</td>\n",
       "      <td>BR</td>\n",
       "      <td>BRA</td>\n",
       "      <td>55</td>\n",
       "      <td>Porto  Alegre</td>\n",
       "      <td>...</td>\n",
       "      <td>caleg.cancilleria.gob.ar</td>\n",
       "      <td>NaN</td>\n",
       "      <td>https://twitter.com/ArgPortoAlegre  //  https:...</td>\n",
       "      <td>NaN</td>\n",
       "      <td>NaN</td>\n",
       "      <td>00:00:00</td>\n",
       "      <td>00:00:00</td>\n",
       "      <td>9  a  18  hs;  Atención  al  público  9  a  15...</td>\n",
       "      <td>NaN</td>\n",
       "      <td>Aceguá;  Água  Santa;  Agudo;  Alto  Alegre;  ...</td>\n",
       "    </tr>\n",
       "    <tr>\n",
       "      <th>1</th>\n",
       "      <td>CANTO</td>\n",
       "      <td>Consulado  en  Antofagasta</td>\n",
       "      <td>Consulate  in  ANTOFAGASTA</td>\n",
       "      <td>REPÚBLICA  DE  CHILE</td>\n",
       "      <td>REPUBLIC  OF  CHILE</td>\n",
       "      <td>AMÉRICA  DEL  SUR</td>\n",
       "      <td>CL</td>\n",
       "      <td>CHL</td>\n",
       "      <td>56</td>\n",
       "      <td>Antofagasta</td>\n",
       "      <td>...</td>\n",
       "      <td>https://canto.cancilleria.gob.ar/</td>\n",
       "      <td>NaN</td>\n",
       "      <td>https://www.facebook.com/Consulado-de-la-Rep%C...</td>\n",
       "      <td>Lunes</td>\n",
       "      <td>Viernes</td>\n",
       "      <td>09:30:00</td>\n",
       "      <td>14:00:00</td>\n",
       "      <td>Horario  administrativo:  09:00  a  17:30  h</td>\n",
       "      <td>NaN</td>\n",
       "      <td>Región  de  Arica  y  Parinacota  -  Capital  ...</td>\n",
       "    </tr>\n",
       "    <tr>\n",
       "      <th>2</th>\n",
       "      <td>CAREN</td>\n",
       "      <td>Consulado  General  en  Punta  Arenas</td>\n",
       "      <td>Consulate  General  in  Punta  Arenas</td>\n",
       "      <td>REPÚBLICA  DE  CHILE</td>\n",
       "      <td>REPUBLIC  OF  CHILE</td>\n",
       "      <td>AMÉRICA  DEL  SUR</td>\n",
       "      <td>CL</td>\n",
       "      <td>CHL</td>\n",
       "      <td>56</td>\n",
       "      <td>Punta  Arenas</td>\n",
       "      <td>...</td>\n",
       "      <td>https://caren.cancilleria.gob.ar/</td>\n",
       "      <td>NaN</td>\n",
       "      <td>https://www.facebook.com/profile.php?id=100014...</td>\n",
       "      <td>NaN</td>\n",
       "      <td>NaN</td>\n",
       "      <td>NaN</td>\n",
       "      <td>NaN</td>\n",
       "      <td>09:00  a  14:00  (Atención  al  Público)  a  1...</td>\n",
       "      <td>NaN</td>\n",
       "      <td>Región  XII  Magallanes  y  Antártica  Chilena...</td>\n",
       "    </tr>\n",
       "    <tr>\n",
       "      <th>3</th>\n",
       "      <td>CASUN</td>\n",
       "      <td>Consulado  General  en  Asunción</td>\n",
       "      <td>Consulate  General  in  Asuncion</td>\n",
       "      <td>REPÚBLICA  DEL  PARAGUAY</td>\n",
       "      <td>REPUBLIC  OF  PARAGUAY</td>\n",
       "      <td>AMÉRICA  DEL  SUR</td>\n",
       "      <td>PY</td>\n",
       "      <td>PRY</td>\n",
       "      <td>595</td>\n",
       "      <td>Asunción</td>\n",
       "      <td>...</td>\n",
       "      <td>www.casun.mrecic.gov.ar</td>\n",
       "      <td>NaN</td>\n",
       "      <td>@ArgentinaEnAsuncion  //</td>\n",
       "      <td>Lunes</td>\n",
       "      <td>Viernes</td>\n",
       "      <td>08:00:00</td>\n",
       "      <td>13:00:00</td>\n",
       "      <td>Horario  de  funcionarios  hasta  15:00  hs.</td>\n",
       "      <td>NaN</td>\n",
       "      <td>Departamentos  de  Boquerón, Alto  Paraguay, P...</td>\n",
       "    </tr>\n",
       "    <tr>\n",
       "      <th>4</th>\n",
       "      <td>CATLA</td>\n",
       "      <td>Consulado  General  en  Atlanta</td>\n",
       "      <td>Consulate  General  in  Atlanta</td>\n",
       "      <td>Estados  Unidos  de  América</td>\n",
       "      <td>UNITED  STATES  OF  AMERICA</td>\n",
       "      <td>AMÉRICA  DEL  NORTE</td>\n",
       "      <td>US</td>\n",
       "      <td>USA</td>\n",
       "      <td>1</td>\n",
       "      <td>Atlanta</td>\n",
       "      <td>...</td>\n",
       "      <td>www.catla.mrecic.gov.ar</td>\n",
       "      <td>NaN</td>\n",
       "      <td>NaN</td>\n",
       "      <td>NaN</td>\n",
       "      <td>NaN</td>\n",
       "      <td>NaN</td>\n",
       "      <td>NaN</td>\n",
       "      <td>de  9:00  a  14:00  hs  (Público)  -  Oficina ...</td>\n",
       "      <td>NaN</td>\n",
       "      <td>Estados  de  Alabama, Carolina  del  Sur, Geor...</td>\n",
       "    </tr>\n",
       "  </tbody>\n",
       "</table>\n",
       "<p>5 rows × 37 columns</p>\n",
       "</div>"
      ],
      "text/plain": [
       "  sede_id                   sede_desc_castellano  \\\n",
       "0   CALEG  Consulado  General  en  Porto  Alegre   \n",
       "1   CANTO             Consulado  en  Antofagasta   \n",
       "2   CAREN  Consulado  General  en  Punta  Arenas   \n",
       "3   CASUN       Consulado  General  en  Asunción   \n",
       "4   CATLA        Consulado  General  en  Atlanta   \n",
       "\n",
       "                        sede_desc_ingles                     pais_castellano  \\\n",
       "0  Consulate  General  in  PORTO  ALEGRE  REPÚBLICA  FEDERATIVA  DEL  BRASIL   \n",
       "1             Consulate  in  ANTOFAGASTA                REPÚBLICA  DE  CHILE   \n",
       "2  Consulate  General  in  Punta  Arenas                REPÚBLICA  DE  CHILE   \n",
       "3       Consulate  General  in  Asuncion            REPÚBLICA  DEL  PARAGUAY   \n",
       "4        Consulate  General  in  Atlanta        Estados  Unidos  de  América   \n",
       "\n",
       "                        pais_ingles    region_geografica pais_iso_2  \\\n",
       "0  FEDERATIVE  REPUBLIC  OF  BRAZIL    AMÉRICA  DEL  SUR         BR   \n",
       "1               REPUBLIC  OF  CHILE    AMÉRICA  DEL  SUR         CL   \n",
       "2               REPUBLIC  OF  CHILE    AMÉRICA  DEL  SUR         CL   \n",
       "3            REPUBLIC  OF  PARAGUAY    AMÉRICA  DEL  SUR         PY   \n",
       "4       UNITED  STATES  OF  AMERICA  AMÉRICA  DEL  NORTE         US   \n",
       "\n",
       "  pais_iso_3  pais_codigo_telefonico ciudad_castellano  ...  \\\n",
       "0        BRA                      55     Porto  Alegre  ...   \n",
       "1        CHL                      56       Antofagasta  ...   \n",
       "2        CHL                      56     Punta  Arenas  ...   \n",
       "3        PRY                     595          Asunción  ...   \n",
       "4        USA                       1           Atlanta  ...   \n",
       "\n",
       "                           sitio_web  sitios_web_adicionales  \\\n",
       "0           caleg.cancilleria.gob.ar                     NaN   \n",
       "1  https://canto.cancilleria.gob.ar/                     NaN   \n",
       "2  https://caren.cancilleria.gob.ar/                     NaN   \n",
       "3            www.casun.mrecic.gov.ar                     NaN   \n",
       "4            www.catla.mrecic.gov.ar                     NaN   \n",
       "\n",
       "                                      redes_sociales atencion_dia_desde  \\\n",
       "0  https://twitter.com/ArgPortoAlegre  //  https:...                NaN   \n",
       "1  https://www.facebook.com/Consulado-de-la-Rep%C...              Lunes   \n",
       "2  https://www.facebook.com/profile.php?id=100014...                NaN   \n",
       "3                         @ArgentinaEnAsuncion  //                Lunes   \n",
       "4                                                NaN                NaN   \n",
       "\n",
       "  atencion_dia_hasta atencion_hora_desde atencion_hora_hasta  \\\n",
       "0                NaN            00:00:00            00:00:00   \n",
       "1            Viernes            09:30:00            14:00:00   \n",
       "2                NaN                 NaN                 NaN   \n",
       "3            Viernes            08:00:00            13:00:00   \n",
       "4                NaN                 NaN                 NaN   \n",
       "\n",
       "                                 atencion_comentario concurrencias  \\\n",
       "0  9  a  18  hs;  Atención  al  público  9  a  15...           NaN   \n",
       "1       Horario  administrativo:  09:00  a  17:30  h           NaN   \n",
       "2  09:00  a  14:00  (Atención  al  Público)  a  1...           NaN   \n",
       "3       Horario  de  funcionarios  hasta  15:00  hs.           NaN   \n",
       "4  de  9:00  a  14:00  hs  (Público)  -  Oficina ...           NaN   \n",
       "\n",
       "                                     circunscripcion  \n",
       "0  Aceguá;  Água  Santa;  Agudo;  Alto  Alegre;  ...  \n",
       "1  Región  de  Arica  y  Parinacota  -  Capital  ...  \n",
       "2  Región  XII  Magallanes  y  Antártica  Chilena...  \n",
       "3  Departamentos  de  Boquerón, Alto  Paraguay, P...  \n",
       "4  Estados  de  Alabama, Carolina  del  Sur, Geor...  \n",
       "\n",
       "[5 rows x 37 columns]"
      ]
     },
     "execution_count": 6,
     "metadata": {},
     "output_type": "execute_result"
    }
   ],
   "source": [
    "df_sedes_completo.head()"
   ]
  },
  {
   "cell_type": "markdown",
   "metadata": {},
   "source": [
    "Pareciera que df_sedes_completo abarca todo el df_sedes, por lo que parecería innecesario usarlo. Veamos si es asi:"
   ]
  },
  {
   "cell_type": "code",
   "execution_count": 7,
   "metadata": {},
   "outputs": [
    {
     "name": "stdout",
     "output_type": "stream",
     "text": [
      "Falta la columna sede_tipo\n",
      "De las 11 columnas en df_sedes: 10 se encuentran en df_sedes_completo\n"
     ]
    }
   ],
   "source": [
    "coincidencias = 0\n",
    "for columna in df_sedes.columns:\n",
    "    if columna not in df_sedes_completo:\n",
    "        print(f'Falta la columna {columna}')\n",
    "    else:\n",
    "        coincidencias += 1\n",
    "\n",
    "print(f\"De las {len(df_sedes.columns)} columnas en df_sedes: {coincidencias} se encuentran en df_sedes_completo\")"
   ]
  },
  {
   "cell_type": "markdown",
   "metadata": {},
   "source": [
    "Al parecer solo hay una columna que nos da info adicional en df_sedes: $sede\\_tipo$"
   ]
  },
  {
   "cell_type": "markdown",
   "metadata": {},
   "source": [
    "**resumen**\n",
    "* contiene casi todas las cols de df_sedes\n",
    "* hay varios valores null que manejar\n",
    "* hay muchas columnas que no nos van a servir probablemente"
   ]
  },
  {
   "cell_type": "markdown",
   "metadata": {},
   "source": [
    "<h3>data frame secciones</h3>"
   ]
  },
  {
   "cell_type": "code",
   "execution_count": 8,
   "metadata": {},
   "outputs": [
    {
     "name": "stdout",
     "output_type": "stream",
     "text": [
      "<class 'pandas.core.frame.DataFrame'>\n",
      "RangeIndex: 516 entries, 0 to 515\n",
      "Data columns (total 23 columns):\n",
      " #   Column                  Non-Null Count  Dtype  \n",
      "---  ------                  --------------  -----  \n",
      " 0   sede_id                 515 non-null    object \n",
      " 1   sede_desc_castellano    516 non-null    object \n",
      " 2   sede_desc_ingles        498 non-null    object \n",
      " 3   tipo_seccion            516 non-null    object \n",
      " 4   nombre_titular          503 non-null    object \n",
      " 5   apellido_titular        494 non-null    object \n",
      " 6   cargo_titular           511 non-null    object \n",
      " 7   telefono_principal      373 non-null    object \n",
      " 8   telefonos_adicionales   58 non-null     object \n",
      " 9   celular_de_guardia      130 non-null    object \n",
      " 10  celulares_adicionales   5 non-null      object \n",
      " 11  fax_principal           118 non-null    object \n",
      " 12  faxes_adicionales       6 non-null      object \n",
      " 13  correo_electronico      504 non-null    object \n",
      " 14  correos_adicionales     28 non-null     object \n",
      " 15  sitio_web               113 non-null    object \n",
      " 16  sitios_web_adicionales  2 non-null      object \n",
      " 17  atencion_dia_desde      278 non-null    object \n",
      " 18  atencion_dia_hasta      279 non-null    object \n",
      " 19  atencion_hora_desde     327 non-null    object \n",
      " 20  atencion_hora_hasta     327 non-null    object \n",
      " 21  comentario_del_horario  182 non-null    object \n",
      " 22  temas                   0 non-null      float64\n",
      "dtypes: float64(1), object(22)\n",
      "memory usage: 92.8+ KB\n"
     ]
    }
   ],
   "source": [
    "df_secciones.info()"
   ]
  },
  {
   "cell_type": "code",
   "execution_count": 9,
   "metadata": {},
   "outputs": [
    {
     "data": {
      "text/html": [
       "<div>\n",
       "<style scoped>\n",
       "    .dataframe tbody tr th:only-of-type {\n",
       "        vertical-align: middle;\n",
       "    }\n",
       "\n",
       "    .dataframe tbody tr th {\n",
       "        vertical-align: top;\n",
       "    }\n",
       "\n",
       "    .dataframe thead th {\n",
       "        text-align: right;\n",
       "    }\n",
       "</style>\n",
       "<table border=\"1\" class=\"dataframe\">\n",
       "  <thead>\n",
       "    <tr style=\"text-align: right;\">\n",
       "      <th></th>\n",
       "      <th>sede_id</th>\n",
       "      <th>sede_desc_castellano</th>\n",
       "      <th>sede_desc_ingles</th>\n",
       "      <th>tipo_seccion</th>\n",
       "      <th>nombre_titular</th>\n",
       "      <th>apellido_titular</th>\n",
       "      <th>cargo_titular</th>\n",
       "      <th>telefono_principal</th>\n",
       "      <th>telefonos_adicionales</th>\n",
       "      <th>celular_de_guardia</th>\n",
       "      <th>...</th>\n",
       "      <th>correo_electronico</th>\n",
       "      <th>correos_adicionales</th>\n",
       "      <th>sitio_web</th>\n",
       "      <th>sitios_web_adicionales</th>\n",
       "      <th>atencion_dia_desde</th>\n",
       "      <th>atencion_dia_hasta</th>\n",
       "      <th>atencion_hora_desde</th>\n",
       "      <th>atencion_hora_hasta</th>\n",
       "      <th>comentario_del_horario</th>\n",
       "      <th>temas</th>\n",
       "    </tr>\n",
       "  </thead>\n",
       "  <tbody>\n",
       "    <tr>\n",
       "      <th>0</th>\n",
       "      <td>ECHES</td>\n",
       "      <td>Administración</td>\n",
       "      <td>Administrative  Section</td>\n",
       "      <td>Seccion</td>\n",
       "      <td>María  Verónica</td>\n",
       "      <td>Skerianz</td>\n",
       "      <td>Jefe  de  Sección  Administrativa</td>\n",
       "      <td>NaN</td>\n",
       "      <td>NaN</td>\n",
       "      <td>NaN</td>\n",
       "      <td>...</td>\n",
       "      <td>eches@mrecic.gov.ar</td>\n",
       "      <td>NaN</td>\n",
       "      <td>NaN</td>\n",
       "      <td>NaN</td>\n",
       "      <td>Lunes</td>\n",
       "      <td>Viernes</td>\n",
       "      <td>09:00:00</td>\n",
       "      <td>17:00:00</td>\n",
       "      <td>NaN</td>\n",
       "      <td>NaN</td>\n",
       "    </tr>\n",
       "    <tr>\n",
       "      <th>1</th>\n",
       "      <td>ERUNI</td>\n",
       "      <td>Administración</td>\n",
       "      <td>Administration</td>\n",
       "      <td>Seccion</td>\n",
       "      <td>María  Carolina</td>\n",
       "      <td>Etcheverry</td>\n",
       "      <td>Agregada</td>\n",
       "      <td>NaN</td>\n",
       "      <td>NaN</td>\n",
       "      <td>NaN</td>\n",
       "      <td>...</td>\n",
       "      <td>eruni@mrecic.gov.ar</td>\n",
       "      <td>NaN</td>\n",
       "      <td>NaN</td>\n",
       "      <td>NaN</td>\n",
       "      <td>Lunes</td>\n",
       "      <td>Viernes</td>\n",
       "      <td>09:00:00</td>\n",
       "      <td>18:00:00</td>\n",
       "      <td>NaN</td>\n",
       "      <td>NaN</td>\n",
       "    </tr>\n",
       "    <tr>\n",
       "      <th>2</th>\n",
       "      <td>EHAIT</td>\n",
       "      <td>Administración</td>\n",
       "      <td>Todo  el  territorio  de  Haiti</td>\n",
       "      <td>Seccion</td>\n",
       "      <td>Sergio  Fabián</td>\n",
       "      <td>Pérez  Godoy</td>\n",
       "      <td>Jefe  de  Sección  Administrativa</td>\n",
       "      <td>509  2940-67/11/12/13/14</td>\n",
       "      <td>NaN</td>\n",
       "      <td>00  509  3676  0359</td>\n",
       "      <td>...</td>\n",
       "      <td>ehait@cancilleria.gob.ar</td>\n",
       "      <td>NaN</td>\n",
       "      <td>NaN</td>\n",
       "      <td>NaN</td>\n",
       "      <td>Lunes</td>\n",
       "      <td>Viernes</td>\n",
       "      <td>NaN</td>\n",
       "      <td>NaN</td>\n",
       "      <td>9.00  hs  a  17.00  hs</td>\n",
       "      <td>NaN</td>\n",
       "    </tr>\n",
       "    <tr>\n",
       "      <th>3</th>\n",
       "      <td>EKENY</td>\n",
       "      <td>Administración</td>\n",
       "      <td>Administrative  Section</td>\n",
       "      <td>Seccion</td>\n",
       "      <td>Ximena  Inés</td>\n",
       "      <td>Toledo</td>\n",
       "      <td>Jefe/a  de  Oficina</td>\n",
       "      <td>NaN</td>\n",
       "      <td>NaN</td>\n",
       "      <td>NaN</td>\n",
       "      <td>...</td>\n",
       "      <td>ekeny@cancilleria.gob.ar</td>\n",
       "      <td>NaN</td>\n",
       "      <td>NaN</td>\n",
       "      <td>NaN</td>\n",
       "      <td>Lunes</td>\n",
       "      <td>Viernes</td>\n",
       "      <td>09:00:00</td>\n",
       "      <td>16:00:00</td>\n",
       "      <td>NaN</td>\n",
       "      <td>NaN</td>\n",
       "    </tr>\n",
       "    <tr>\n",
       "      <th>4</th>\n",
       "      <td>ERUNI</td>\n",
       "      <td>Administración</td>\n",
       "      <td>Administracion</td>\n",
       "      <td>Seccion</td>\n",
       "      <td>Carlos  Esteban</td>\n",
       "      <td>Pronato</td>\n",
       "      <td>Jefe  de  Sección</td>\n",
       "      <td>44  2073181300</td>\n",
       "      <td>NaN</td>\n",
       "      <td>NaN</td>\n",
       "      <td>...</td>\n",
       "      <td>eruni@mrecic.gov.ar</td>\n",
       "      <td>NaN</td>\n",
       "      <td>NaN</td>\n",
       "      <td>NaN</td>\n",
       "      <td>Lunes</td>\n",
       "      <td>Viernes</td>\n",
       "      <td>09:00:00</td>\n",
       "      <td>18:00:00</td>\n",
       "      <td>NaN</td>\n",
       "      <td>NaN</td>\n",
       "    </tr>\n",
       "  </tbody>\n",
       "</table>\n",
       "<p>5 rows × 23 columns</p>\n",
       "</div>"
      ],
      "text/plain": [
       "  sede_id sede_desc_castellano                 sede_desc_ingles tipo_seccion  \\\n",
       "0   ECHES       Administración          Administrative  Section      Seccion   \n",
       "1   ERUNI       Administración                   Administration      Seccion   \n",
       "2   EHAIT       Administración  Todo  el  territorio  de  Haiti      Seccion   \n",
       "3   EKENY       Administración          Administrative  Section      Seccion   \n",
       "4   ERUNI       Administración                   Administracion      Seccion   \n",
       "\n",
       "      nombre_titular apellido_titular                      cargo_titular  \\\n",
       "0  María  Verónica           Skerianz  Jefe  de  Sección  Administrativa   \n",
       "1  María  Carolina         Etcheverry                           Agregada   \n",
       "2   Sergio  Fabián       Pérez  Godoy  Jefe  de  Sección  Administrativa   \n",
       "3     Ximena  Inés             Toledo                Jefe/a  de  Oficina   \n",
       "4  Carlos  Esteban            Pronato                  Jefe  de  Sección   \n",
       "\n",
       "         telefono_principal telefonos_adicionales   celular_de_guardia  ...  \\\n",
       "0                       NaN                   NaN                  NaN  ...   \n",
       "1                       NaN                   NaN                  NaN  ...   \n",
       "2  509  2940-67/11/12/13/14                   NaN  00  509  3676  0359  ...   \n",
       "3                       NaN                   NaN                  NaN  ...   \n",
       "4            44  2073181300                   NaN                  NaN  ...   \n",
       "\n",
       "         correo_electronico correos_adicionales sitio_web  \\\n",
       "0       eches@mrecic.gov.ar                 NaN       NaN   \n",
       "1       eruni@mrecic.gov.ar                 NaN       NaN   \n",
       "2  ehait@cancilleria.gob.ar                 NaN       NaN   \n",
       "3  ekeny@cancilleria.gob.ar                 NaN       NaN   \n",
       "4       eruni@mrecic.gov.ar                 NaN       NaN   \n",
       "\n",
       "  sitios_web_adicionales atencion_dia_desde atencion_dia_hasta  \\\n",
       "0                    NaN              Lunes            Viernes   \n",
       "1                    NaN              Lunes            Viernes   \n",
       "2                    NaN              Lunes            Viernes   \n",
       "3                    NaN              Lunes            Viernes   \n",
       "4                    NaN              Lunes            Viernes   \n",
       "\n",
       "  atencion_hora_desde atencion_hora_hasta  comentario_del_horario temas  \n",
       "0            09:00:00            17:00:00                     NaN   NaN  \n",
       "1            09:00:00            18:00:00                     NaN   NaN  \n",
       "2                 NaN                 NaN  9.00  hs  a  17.00  hs   NaN  \n",
       "3            09:00:00            16:00:00                     NaN   NaN  \n",
       "4            09:00:00            18:00:00                     NaN   NaN  \n",
       "\n",
       "[5 rows x 23 columns]"
      ]
     },
     "execution_count": 9,
     "metadata": {},
     "output_type": "execute_result"
    }
   ],
   "source": [
    "df_secciones.head()"
   ]
  },
  {
   "cell_type": "markdown",
   "metadata": {},
   "source": [
    "**resumen:**\n",
    "* hay que manejar nulls\n",
    "* se pueden borrar muchas columnas que probablemente no sirvan\n",
    "* se puede usar $sede\\_id$ para relacionarla con las tablas de las sedes\n"
   ]
  },
  {
   "cell_type": "markdown",
   "metadata": {},
   "source": [
    "<h3>data frame paises</h3>"
   ]
  },
  {
   "cell_type": "code",
   "execution_count": 10,
   "metadata": {},
   "outputs": [
    {
     "name": "stdout",
     "output_type": "stream",
     "text": [
      "<class 'pandas.core.frame.DataFrame'>\n",
      "RangeIndex: 248 entries, 0 to 247\n",
      "Data columns (total 6 columns):\n",
      " #   Column       Non-Null Count  Dtype \n",
      "---  ------       --------------  ----- \n",
      " 0   nombre       248 non-null    object\n",
      " 1    name        248 non-null    object\n",
      " 2    nom         248 non-null    object\n",
      " 3    iso2        247 non-null    object\n",
      " 4    iso3        248 non-null    object\n",
      " 5    phone_code  245 non-null    object\n",
      "dtypes: object(6)\n",
      "memory usage: 11.8+ KB\n"
     ]
    }
   ],
   "source": [
    "df_paises.info()"
   ]
  },
  {
   "cell_type": "code",
   "execution_count": 11,
   "metadata": {},
   "outputs": [
    {
     "data": {
      "text/html": [
       "<div>\n",
       "<style scoped>\n",
       "    .dataframe tbody tr th:only-of-type {\n",
       "        vertical-align: middle;\n",
       "    }\n",
       "\n",
       "    .dataframe tbody tr th {\n",
       "        vertical-align: top;\n",
       "    }\n",
       "\n",
       "    .dataframe thead th {\n",
       "        text-align: right;\n",
       "    }\n",
       "</style>\n",
       "<table border=\"1\" class=\"dataframe\">\n",
       "  <thead>\n",
       "    <tr style=\"text-align: right;\">\n",
       "      <th></th>\n",
       "      <th>nombre</th>\n",
       "      <th>name</th>\n",
       "      <th>nom</th>\n",
       "      <th>iso2</th>\n",
       "      <th>iso3</th>\n",
       "      <th>phone_code</th>\n",
       "    </tr>\n",
       "  </thead>\n",
       "  <tbody>\n",
       "    <tr>\n",
       "      <th>0</th>\n",
       "      <td>Afganistán</td>\n",
       "      <td>Afghanistan</td>\n",
       "      <td>Afghanistan</td>\n",
       "      <td>AF</td>\n",
       "      <td>AFG</td>\n",
       "      <td>93</td>\n",
       "    </tr>\n",
       "    <tr>\n",
       "      <th>1</th>\n",
       "      <td>Albania</td>\n",
       "      <td>Albania</td>\n",
       "      <td>Albanie</td>\n",
       "      <td>AL</td>\n",
       "      <td>ALB</td>\n",
       "      <td>355</td>\n",
       "    </tr>\n",
       "    <tr>\n",
       "      <th>2</th>\n",
       "      <td>Alemania</td>\n",
       "      <td>Germany</td>\n",
       "      <td>Allemagne</td>\n",
       "      <td>DE</td>\n",
       "      <td>DEU</td>\n",
       "      <td>49</td>\n",
       "    </tr>\n",
       "    <tr>\n",
       "      <th>3</th>\n",
       "      <td>Andorra</td>\n",
       "      <td>Andorra</td>\n",
       "      <td>Andorra</td>\n",
       "      <td>AD</td>\n",
       "      <td>AND</td>\n",
       "      <td>376</td>\n",
       "    </tr>\n",
       "    <tr>\n",
       "      <th>4</th>\n",
       "      <td>Angola</td>\n",
       "      <td>Angola</td>\n",
       "      <td>Angola</td>\n",
       "      <td>AO</td>\n",
       "      <td>AGO</td>\n",
       "      <td>244</td>\n",
       "    </tr>\n",
       "  </tbody>\n",
       "</table>\n",
       "</div>"
      ],
      "text/plain": [
       "       nombre         name          nom  iso2  iso3  phone_code\n",
       "0  Afganistán  Afghanistan  Afghanistan    AF   AFG          93\n",
       "1     Albania      Albania      Albanie    AL   ALB         355\n",
       "2    Alemania      Germany    Allemagne    DE   DEU          49\n",
       "3     Andorra      Andorra      Andorra    AD   AND         376\n",
       "4      Angola       Angola       Angola    AO   AGO         244"
      ]
     },
     "execution_count": 11,
     "metadata": {},
     "output_type": "execute_result"
    }
   ],
   "source": [
    "df_paises.head()"
   ]
  },
  {
   "cell_type": "markdown",
   "metadata": {},
   "source": [
    "**resumen:**\n",
    "* podemos usar $iso3$ para relacionarlo con las otras tablas, ya que este no tiene ningun null"
   ]
  },
  {
   "cell_type": "markdown",
   "metadata": {},
   "source": [
    "<h3>data frame IED</h3>"
   ]
  },
  {
   "cell_type": "code",
   "execution_count": 12,
   "metadata": {},
   "outputs": [
    {
     "name": "stdout",
     "output_type": "stream",
     "text": [
      "<class 'pandas.core.frame.DataFrame'>\n",
      "Index: 172 entries, afganistan to zimbabue\n",
      "Data columns (total 43 columns):\n",
      " #   Column      Non-Null Count  Dtype  \n",
      "---  ------      --------------  -----  \n",
      " 0   1980-01-01  120 non-null    float64\n",
      " 1   1981-01-01  121 non-null    float64\n",
      " 2   1982-01-01  123 non-null    float64\n",
      " 3   1983-01-01  123 non-null    float64\n",
      " 4   1984-01-01  124 non-null    float64\n",
      " 5   1985-01-01  129 non-null    float64\n",
      " 6   1986-01-01  129 non-null    float64\n",
      " 7   1987-01-01  131 non-null    float64\n",
      " 8   1988-01-01  131 non-null    float64\n",
      " 9   1989-01-01  132 non-null    float64\n",
      " 10  1990-01-01  138 non-null    float64\n",
      " 11  1991-01-01  139 non-null    float64\n",
      " 12  1992-01-01  152 non-null    float64\n",
      " 13  1993-01-01  157 non-null    float64\n",
      " 14  1994-01-01  156 non-null    float64\n",
      " 15  1995-01-01  157 non-null    float64\n",
      " 16  1996-01-01  156 non-null    float64\n",
      " 17  1997-01-01  160 non-null    float64\n",
      " 18  1998-01-01  161 non-null    float64\n",
      " 19  1999-01-01  161 non-null    float64\n",
      " 20  2000-01-01  163 non-null    float64\n",
      " 21  2001-01-01  163 non-null    float64\n",
      " 22  2002-01-01  162 non-null    float64\n",
      " 23  2003-01-01  165 non-null    float64\n",
      " 24  2004-01-01  165 non-null    float64\n",
      " 25  2005-01-01  166 non-null    float64\n",
      " 26  2006-01-01  166 non-null    float64\n",
      " 27  2007-01-01  166 non-null    float64\n",
      " 28  2008-01-01  167 non-null    float64\n",
      " 29  2009-01-01  166 non-null    float64\n",
      " 30  2010-01-01  166 non-null    float64\n",
      " 31  2011-01-01  166 non-null    float64\n",
      " 32  2012-01-01  167 non-null    float64\n",
      " 33  2013-01-01  167 non-null    float64\n",
      " 34  2014-01-01  166 non-null    float64\n",
      " 35  2015-01-01  167 non-null    float64\n",
      " 36  2016-01-01  167 non-null    float64\n",
      " 37  2017-01-01  167 non-null    float64\n",
      " 38  2018-01-01  166 non-null    float64\n",
      " 39  2019-01-01  167 non-null    float64\n",
      " 40  2020-01-01  166 non-null    float64\n",
      " 41  2021-01-01  166 non-null    float64\n",
      " 42  2022-01-01  165 non-null    float64\n",
      "dtypes: float64(43)\n",
      "memory usage: 59.1+ KB\n"
     ]
    }
   ],
   "source": [
    "df_IED.info()"
   ]
  },
  {
   "cell_type": "markdown",
   "metadata": {},
   "source": [
    "el nombre del indice quedó mal, cambiemoslo"
   ]
  },
  {
   "cell_type": "code",
   "execution_count": 13,
   "metadata": {},
   "outputs": [
    {
     "data": {
      "text/html": [
       "<div>\n",
       "<style scoped>\n",
       "    .dataframe tbody tr th:only-of-type {\n",
       "        vertical-align: middle;\n",
       "    }\n",
       "\n",
       "    .dataframe tbody tr th {\n",
       "        vertical-align: top;\n",
       "    }\n",
       "\n",
       "    .dataframe thead th {\n",
       "        text-align: right;\n",
       "    }\n",
       "</style>\n",
       "<table border=\"1\" class=\"dataframe\">\n",
       "  <thead>\n",
       "    <tr style=\"text-align: right;\">\n",
       "      <th>indice_tiempo</th>\n",
       "      <th>1980-01-01</th>\n",
       "      <th>1981-01-01</th>\n",
       "      <th>1982-01-01</th>\n",
       "      <th>1983-01-01</th>\n",
       "      <th>1984-01-01</th>\n",
       "      <th>1985-01-01</th>\n",
       "      <th>1986-01-01</th>\n",
       "      <th>1987-01-01</th>\n",
       "      <th>1988-01-01</th>\n",
       "      <th>1989-01-01</th>\n",
       "      <th>...</th>\n",
       "      <th>2013-01-01</th>\n",
       "      <th>2014-01-01</th>\n",
       "      <th>2015-01-01</th>\n",
       "      <th>2016-01-01</th>\n",
       "      <th>2017-01-01</th>\n",
       "      <th>2018-01-01</th>\n",
       "      <th>2019-01-01</th>\n",
       "      <th>2020-01-01</th>\n",
       "      <th>2021-01-01</th>\n",
       "      <th>2022-01-01</th>\n",
       "    </tr>\n",
       "  </thead>\n",
       "  <tbody>\n",
       "    <tr>\n",
       "      <th>afganistan</th>\n",
       "      <td>9.00</td>\n",
       "      <td>0.18</td>\n",
       "      <td>0.10</td>\n",
       "      <td>NaN</td>\n",
       "      <td>NaN</td>\n",
       "      <td>NaN</td>\n",
       "      <td>NaN</td>\n",
       "      <td>0.40</td>\n",
       "      <td>NaN</td>\n",
       "      <td>NaN</td>\n",
       "      <td>...</td>\n",
       "      <td>48.311346</td>\n",
       "      <td>42.975262</td>\n",
       "      <td>169.146608</td>\n",
       "      <td>93.591315</td>\n",
       "      <td>51.533897</td>\n",
       "      <td>119.435106</td>\n",
       "      <td>23.404554</td>\n",
       "      <td>12.970148</td>\n",
       "      <td>20.600976</td>\n",
       "      <td>NaN</td>\n",
       "    </tr>\n",
       "    <tr>\n",
       "      <th>albania</th>\n",
       "      <td>NaN</td>\n",
       "      <td>NaN</td>\n",
       "      <td>NaN</td>\n",
       "      <td>NaN</td>\n",
       "      <td>NaN</td>\n",
       "      <td>NaN</td>\n",
       "      <td>NaN</td>\n",
       "      <td>NaN</td>\n",
       "      <td>NaN</td>\n",
       "      <td>NaN</td>\n",
       "      <td>...</td>\n",
       "      <td>1265.900790</td>\n",
       "      <td>1111.434379</td>\n",
       "      <td>945.722845</td>\n",
       "      <td>1100.671891</td>\n",
       "      <td>1148.891224</td>\n",
       "      <td>1289.689054</td>\n",
       "      <td>1287.966989</td>\n",
       "      <td>1108.159167</td>\n",
       "      <td>1233.917686</td>\n",
       "      <td>1434.125507</td>\n",
       "    </tr>\n",
       "    <tr>\n",
       "      <th>argelia</th>\n",
       "      <td>348.67</td>\n",
       "      <td>13.21</td>\n",
       "      <td>-53.57</td>\n",
       "      <td>0.42</td>\n",
       "      <td>0.80</td>\n",
       "      <td>0.4</td>\n",
       "      <td>5.32</td>\n",
       "      <td>3.71</td>\n",
       "      <td>13.02</td>\n",
       "      <td>12.09</td>\n",
       "      <td>...</td>\n",
       "      <td>1696.866750</td>\n",
       "      <td>1506.733438</td>\n",
       "      <td>-584.539199</td>\n",
       "      <td>1636.299236</td>\n",
       "      <td>1232.341924</td>\n",
       "      <td>1474.589069</td>\n",
       "      <td>1381.812310</td>\n",
       "      <td>1142.640690</td>\n",
       "      <td>869.656570</td>\n",
       "      <td>88.768519</td>\n",
       "    </tr>\n",
       "    <tr>\n",
       "      <th>angola</th>\n",
       "      <td>37.42</td>\n",
       "      <td>49.05</td>\n",
       "      <td>115.81</td>\n",
       "      <td>104.33</td>\n",
       "      <td>67.14</td>\n",
       "      <td>278.0</td>\n",
       "      <td>234.00</td>\n",
       "      <td>119.00</td>\n",
       "      <td>131.00</td>\n",
       "      <td>200.00</td>\n",
       "      <td>...</td>\n",
       "      <td>-7120.017424</td>\n",
       "      <td>3657.514667</td>\n",
       "      <td>10028.215163</td>\n",
       "      <td>-179.517619</td>\n",
       "      <td>-7397.295409</td>\n",
       "      <td>-6456.076413</td>\n",
       "      <td>-4098.478748</td>\n",
       "      <td>-1866.468113</td>\n",
       "      <td>-4355.116553</td>\n",
       "      <td>-6142.248848</td>\n",
       "    </tr>\n",
       "    <tr>\n",
       "      <th>argentina</th>\n",
       "      <td>678.00</td>\n",
       "      <td>837.00</td>\n",
       "      <td>227.00</td>\n",
       "      <td>185.00</td>\n",
       "      <td>268.00</td>\n",
       "      <td>919.0</td>\n",
       "      <td>574.00</td>\n",
       "      <td>-19.00</td>\n",
       "      <td>1147.00</td>\n",
       "      <td>1028.00</td>\n",
       "      <td>...</td>\n",
       "      <td>9821.661858</td>\n",
       "      <td>5065.335542</td>\n",
       "      <td>11758.994011</td>\n",
       "      <td>3260.164342</td>\n",
       "      <td>11516.861462</td>\n",
       "      <td>11716.583568</td>\n",
       "      <td>6649.187838</td>\n",
       "      <td>4722.648813</td>\n",
       "      <td>6782.348887</td>\n",
       "      <td>15087.398354</td>\n",
       "    </tr>\n",
       "  </tbody>\n",
       "</table>\n",
       "<p>5 rows × 43 columns</p>\n",
       "</div>"
      ],
      "text/plain": [
       "indice_tiempo  1980-01-01  1981-01-01  1982-01-01  1983-01-01  1984-01-01  \\\n",
       "afganistan           9.00        0.18        0.10         NaN         NaN   \n",
       "albania               NaN         NaN         NaN         NaN         NaN   \n",
       "argelia            348.67       13.21      -53.57        0.42        0.80   \n",
       "angola              37.42       49.05      115.81      104.33       67.14   \n",
       "argentina          678.00      837.00      227.00      185.00      268.00   \n",
       "\n",
       "indice_tiempo  1985-01-01  1986-01-01  1987-01-01  1988-01-01  1989-01-01  \\\n",
       "afganistan            NaN         NaN        0.40         NaN         NaN   \n",
       "albania               NaN         NaN         NaN         NaN         NaN   \n",
       "argelia               0.4        5.32        3.71       13.02       12.09   \n",
       "angola              278.0      234.00      119.00      131.00      200.00   \n",
       "argentina           919.0      574.00      -19.00     1147.00     1028.00   \n",
       "\n",
       "indice_tiempo  ...   2013-01-01   2014-01-01    2015-01-01   2016-01-01  \\\n",
       "afganistan     ...    48.311346    42.975262    169.146608    93.591315   \n",
       "albania        ...  1265.900790  1111.434379    945.722845  1100.671891   \n",
       "argelia        ...  1696.866750  1506.733438   -584.539199  1636.299236   \n",
       "angola         ... -7120.017424  3657.514667  10028.215163  -179.517619   \n",
       "argentina      ...  9821.661858  5065.335542  11758.994011  3260.164342   \n",
       "\n",
       "indice_tiempo    2017-01-01    2018-01-01   2019-01-01   2020-01-01  \\\n",
       "afganistan        51.533897    119.435106    23.404554    12.970148   \n",
       "albania         1148.891224   1289.689054  1287.966989  1108.159167   \n",
       "argelia         1232.341924   1474.589069  1381.812310  1142.640690   \n",
       "angola         -7397.295409  -6456.076413 -4098.478748 -1866.468113   \n",
       "argentina      11516.861462  11716.583568  6649.187838  4722.648813   \n",
       "\n",
       "indice_tiempo   2021-01-01    2022-01-01  \n",
       "afganistan       20.600976           NaN  \n",
       "albania        1233.917686   1434.125507  \n",
       "argelia         869.656570     88.768519  \n",
       "angola        -4355.116553  -6142.248848  \n",
       "argentina      6782.348887  15087.398354  \n",
       "\n",
       "[5 rows x 43 columns]"
      ]
     },
     "execution_count": 13,
     "metadata": {},
     "output_type": "execute_result"
    }
   ],
   "source": [
    "df_IED.head()"
   ]
  },
  {
   "cell_type": "markdown",
   "metadata": {},
   "source": [
    "corregimos el nombre de la columna para países"
   ]
  },
  {
   "cell_type": "code",
   "execution_count": 14,
   "metadata": {},
   "outputs": [],
   "source": [
    "df_IED.index.name = 'pais'"
   ]
  },
  {
   "cell_type": "code",
   "execution_count": 15,
   "metadata": {},
   "outputs": [
    {
     "data": {
      "text/html": [
       "<div>\n",
       "<style scoped>\n",
       "    .dataframe tbody tr th:only-of-type {\n",
       "        vertical-align: middle;\n",
       "    }\n",
       "\n",
       "    .dataframe tbody tr th {\n",
       "        vertical-align: top;\n",
       "    }\n",
       "\n",
       "    .dataframe thead th {\n",
       "        text-align: right;\n",
       "    }\n",
       "</style>\n",
       "<table border=\"1\" class=\"dataframe\">\n",
       "  <thead>\n",
       "    <tr style=\"text-align: right;\">\n",
       "      <th>indice_tiempo</th>\n",
       "      <th>1980-01-01</th>\n",
       "      <th>1981-01-01</th>\n",
       "      <th>1982-01-01</th>\n",
       "      <th>1983-01-01</th>\n",
       "      <th>1984-01-01</th>\n",
       "      <th>1985-01-01</th>\n",
       "      <th>1986-01-01</th>\n",
       "      <th>1987-01-01</th>\n",
       "      <th>1988-01-01</th>\n",
       "      <th>1989-01-01</th>\n",
       "      <th>...</th>\n",
       "      <th>2013-01-01</th>\n",
       "      <th>2014-01-01</th>\n",
       "      <th>2015-01-01</th>\n",
       "      <th>2016-01-01</th>\n",
       "      <th>2017-01-01</th>\n",
       "      <th>2018-01-01</th>\n",
       "      <th>2019-01-01</th>\n",
       "      <th>2020-01-01</th>\n",
       "      <th>2021-01-01</th>\n",
       "      <th>2022-01-01</th>\n",
       "    </tr>\n",
       "    <tr>\n",
       "      <th>pais</th>\n",
       "      <th></th>\n",
       "      <th></th>\n",
       "      <th></th>\n",
       "      <th></th>\n",
       "      <th></th>\n",
       "      <th></th>\n",
       "      <th></th>\n",
       "      <th></th>\n",
       "      <th></th>\n",
       "      <th></th>\n",
       "      <th></th>\n",
       "      <th></th>\n",
       "      <th></th>\n",
       "      <th></th>\n",
       "      <th></th>\n",
       "      <th></th>\n",
       "      <th></th>\n",
       "      <th></th>\n",
       "      <th></th>\n",
       "      <th></th>\n",
       "      <th></th>\n",
       "    </tr>\n",
       "  </thead>\n",
       "  <tbody>\n",
       "    <tr>\n",
       "      <th>afganistan</th>\n",
       "      <td>9.00</td>\n",
       "      <td>0.18</td>\n",
       "      <td>0.10</td>\n",
       "      <td>NaN</td>\n",
       "      <td>NaN</td>\n",
       "      <td>NaN</td>\n",
       "      <td>NaN</td>\n",
       "      <td>0.40</td>\n",
       "      <td>NaN</td>\n",
       "      <td>NaN</td>\n",
       "      <td>...</td>\n",
       "      <td>48.311346</td>\n",
       "      <td>42.975262</td>\n",
       "      <td>169.146608</td>\n",
       "      <td>93.591315</td>\n",
       "      <td>51.533897</td>\n",
       "      <td>119.435106</td>\n",
       "      <td>23.404554</td>\n",
       "      <td>12.970148</td>\n",
       "      <td>20.600976</td>\n",
       "      <td>NaN</td>\n",
       "    </tr>\n",
       "    <tr>\n",
       "      <th>albania</th>\n",
       "      <td>NaN</td>\n",
       "      <td>NaN</td>\n",
       "      <td>NaN</td>\n",
       "      <td>NaN</td>\n",
       "      <td>NaN</td>\n",
       "      <td>NaN</td>\n",
       "      <td>NaN</td>\n",
       "      <td>NaN</td>\n",
       "      <td>NaN</td>\n",
       "      <td>NaN</td>\n",
       "      <td>...</td>\n",
       "      <td>1265.900790</td>\n",
       "      <td>1111.434379</td>\n",
       "      <td>945.722845</td>\n",
       "      <td>1100.671891</td>\n",
       "      <td>1148.891224</td>\n",
       "      <td>1289.689054</td>\n",
       "      <td>1287.966989</td>\n",
       "      <td>1108.159167</td>\n",
       "      <td>1233.917686</td>\n",
       "      <td>1434.125507</td>\n",
       "    </tr>\n",
       "    <tr>\n",
       "      <th>argelia</th>\n",
       "      <td>348.67</td>\n",
       "      <td>13.21</td>\n",
       "      <td>-53.57</td>\n",
       "      <td>0.42</td>\n",
       "      <td>0.80</td>\n",
       "      <td>0.4</td>\n",
       "      <td>5.32</td>\n",
       "      <td>3.71</td>\n",
       "      <td>13.02</td>\n",
       "      <td>12.09</td>\n",
       "      <td>...</td>\n",
       "      <td>1696.866750</td>\n",
       "      <td>1506.733438</td>\n",
       "      <td>-584.539199</td>\n",
       "      <td>1636.299236</td>\n",
       "      <td>1232.341924</td>\n",
       "      <td>1474.589069</td>\n",
       "      <td>1381.812310</td>\n",
       "      <td>1142.640690</td>\n",
       "      <td>869.656570</td>\n",
       "      <td>88.768519</td>\n",
       "    </tr>\n",
       "    <tr>\n",
       "      <th>angola</th>\n",
       "      <td>37.42</td>\n",
       "      <td>49.05</td>\n",
       "      <td>115.81</td>\n",
       "      <td>104.33</td>\n",
       "      <td>67.14</td>\n",
       "      <td>278.0</td>\n",
       "      <td>234.00</td>\n",
       "      <td>119.00</td>\n",
       "      <td>131.00</td>\n",
       "      <td>200.00</td>\n",
       "      <td>...</td>\n",
       "      <td>-7120.017424</td>\n",
       "      <td>3657.514667</td>\n",
       "      <td>10028.215163</td>\n",
       "      <td>-179.517619</td>\n",
       "      <td>-7397.295409</td>\n",
       "      <td>-6456.076413</td>\n",
       "      <td>-4098.478748</td>\n",
       "      <td>-1866.468113</td>\n",
       "      <td>-4355.116553</td>\n",
       "      <td>-6142.248848</td>\n",
       "    </tr>\n",
       "    <tr>\n",
       "      <th>argentina</th>\n",
       "      <td>678.00</td>\n",
       "      <td>837.00</td>\n",
       "      <td>227.00</td>\n",
       "      <td>185.00</td>\n",
       "      <td>268.00</td>\n",
       "      <td>919.0</td>\n",
       "      <td>574.00</td>\n",
       "      <td>-19.00</td>\n",
       "      <td>1147.00</td>\n",
       "      <td>1028.00</td>\n",
       "      <td>...</td>\n",
       "      <td>9821.661858</td>\n",
       "      <td>5065.335542</td>\n",
       "      <td>11758.994011</td>\n",
       "      <td>3260.164342</td>\n",
       "      <td>11516.861462</td>\n",
       "      <td>11716.583568</td>\n",
       "      <td>6649.187838</td>\n",
       "      <td>4722.648813</td>\n",
       "      <td>6782.348887</td>\n",
       "      <td>15087.398354</td>\n",
       "    </tr>\n",
       "  </tbody>\n",
       "</table>\n",
       "<p>5 rows × 43 columns</p>\n",
       "</div>"
      ],
      "text/plain": [
       "indice_tiempo  1980-01-01  1981-01-01  1982-01-01  1983-01-01  1984-01-01  \\\n",
       "pais                                                                        \n",
       "afganistan           9.00        0.18        0.10         NaN         NaN   \n",
       "albania               NaN         NaN         NaN         NaN         NaN   \n",
       "argelia            348.67       13.21      -53.57        0.42        0.80   \n",
       "angola              37.42       49.05      115.81      104.33       67.14   \n",
       "argentina          678.00      837.00      227.00      185.00      268.00   \n",
       "\n",
       "indice_tiempo  1985-01-01  1986-01-01  1987-01-01  1988-01-01  1989-01-01  \\\n",
       "pais                                                                        \n",
       "afganistan            NaN         NaN        0.40         NaN         NaN   \n",
       "albania               NaN         NaN         NaN         NaN         NaN   \n",
       "argelia               0.4        5.32        3.71       13.02       12.09   \n",
       "angola              278.0      234.00      119.00      131.00      200.00   \n",
       "argentina           919.0      574.00      -19.00     1147.00     1028.00   \n",
       "\n",
       "indice_tiempo  ...   2013-01-01   2014-01-01    2015-01-01   2016-01-01  \\\n",
       "pais           ...                                                        \n",
       "afganistan     ...    48.311346    42.975262    169.146608    93.591315   \n",
       "albania        ...  1265.900790  1111.434379    945.722845  1100.671891   \n",
       "argelia        ...  1696.866750  1506.733438   -584.539199  1636.299236   \n",
       "angola         ... -7120.017424  3657.514667  10028.215163  -179.517619   \n",
       "argentina      ...  9821.661858  5065.335542  11758.994011  3260.164342   \n",
       "\n",
       "indice_tiempo    2017-01-01    2018-01-01   2019-01-01   2020-01-01  \\\n",
       "pais                                                                  \n",
       "afganistan        51.533897    119.435106    23.404554    12.970148   \n",
       "albania         1148.891224   1289.689054  1287.966989  1108.159167   \n",
       "argelia         1232.341924   1474.589069  1381.812310  1142.640690   \n",
       "angola         -7397.295409  -6456.076413 -4098.478748 -1866.468113   \n",
       "argentina      11516.861462  11716.583568  6649.187838  4722.648813   \n",
       "\n",
       "indice_tiempo   2021-01-01    2022-01-01  \n",
       "pais                                      \n",
       "afganistan       20.600976           NaN  \n",
       "albania        1233.917686   1434.125507  \n",
       "argelia         869.656570     88.768519  \n",
       "angola        -4355.116553  -6142.248848  \n",
       "argentina      6782.348887  15087.398354  \n",
       "\n",
       "[5 rows x 43 columns]"
      ]
     },
     "execution_count": 15,
     "metadata": {},
     "output_type": "execute_result"
    }
   ],
   "source": [
    "df_IED.head()"
   ]
  },
  {
   "cell_type": "markdown",
   "metadata": {},
   "source": [
    "El nombre de las columnas no es conveniente, dejemos solo el año."
   ]
  },
  {
   "cell_type": "code",
   "execution_count": 16,
   "metadata": {},
   "outputs": [
    {
     "data": {
      "text/plain": [
       "Index(['sede_id', 'sede_desc_castellano', 'sede_desc_ingles', 'pais_iso_2',\n",
       "       'pais_iso_3', 'pais_castellano', 'pais_ingles', 'ciudad_castellano',\n",
       "       'ciudad_ingles', 'estado', 'sede_tipo'],\n",
       "      dtype='object')"
      ]
     },
     "execution_count": 16,
     "metadata": {},
     "output_type": "execute_result"
    }
   ],
   "source": [
    "df_sedes.columns"
   ]
  },
  {
   "cell_type": "code",
   "execution_count": 17,
   "metadata": {},
   "outputs": [
    {
     "data": {
      "text/plain": [
       "Index([1980, 1981, 1982, 1983, 1984, 1985, 1986, 1987, 1988, 1989, 1990, 1991,\n",
       "       1992, 1993, 1994, 1995, 1996, 1997, 1998, 1999, 2000, 2001, 2002, 2003,\n",
       "       2004, 2005, 2006, 2007, 2008, 2009, 2010, 2011, 2012, 2013, 2014, 2015,\n",
       "       2016, 2017, 2018, 2019, 2020, 2021, 2022],\n",
       "      dtype='int32')"
      ]
     },
     "execution_count": 17,
     "metadata": {},
     "output_type": "execute_result"
    }
   ],
   "source": [
    "años = np.arange(1980,2023)\n",
    "\n",
    "df_IED.columns = años\n",
    "df_IED.columns"
   ]
  },
  {
   "cell_type": "markdown",
   "metadata": {},
   "source": [
    "Listo"
   ]
  },
  {
   "cell_type": "markdown",
   "metadata": {},
   "source": [
    "<hr>"
   ]
  },
  {
   "cell_type": "markdown",
   "metadata": {},
   "source": [
    "<h1>Vamos a armar los esquemas</h1>"
   ]
  },
  {
   "cell_type": "markdown",
   "metadata": {},
   "source": [
    "<h3>Elijo usar  SQL</h3>"
   ]
  },
  {
   "cell_type": "markdown",
   "metadata": {},
   "source": [
    "**ESQUEMA SEDE**"
   ]
  },
  {
   "cell_type": "code",
   "execution_count": 18,
   "metadata": {},
   "outputs": [],
   "source": [
    "consulta_sede = \"\"\"\n",
    "                SELECT\n",
    "                    sc.sede_id,\n",
    "                    COUNT(\n",
    "                        secc.tipo_seccion\n",
    "                    ) AS n_secciones,\n",
    "                    sc.pais_iso_3 AS iso3_sede\n",
    "                FROM\n",
    "                    df_sedes_completo sc\n",
    "                    INNER JOIN df_sedes s ON sc.sede_id = s.sede_id\n",
    "                    LEFT JOIN df_secciones secc ON sc.sede_id = secc.sede_id\n",
    "                    GROUP BY sc.sede_id, s.sede_tipo, sc.pais_iso_3\n",
    "                \"\"\""
   ]
  },
  {
   "cell_type": "code",
   "execution_count": 19,
   "metadata": {},
   "outputs": [],
   "source": [
    "esquema_sede = sql^ consulta_sede"
   ]
  },
  {
   "cell_type": "code",
   "execution_count": 20,
   "metadata": {},
   "outputs": [],
   "source": [
    "esquema_sede.set_index('sede_id', inplace=True)"
   ]
  },
  {
   "cell_type": "code",
   "execution_count": 21,
   "metadata": {},
   "outputs": [
    {
     "data": {
      "text/html": [
       "<div>\n",
       "<style scoped>\n",
       "    .dataframe tbody tr th:only-of-type {\n",
       "        vertical-align: middle;\n",
       "    }\n",
       "\n",
       "    .dataframe tbody tr th {\n",
       "        vertical-align: top;\n",
       "    }\n",
       "\n",
       "    .dataframe thead th {\n",
       "        text-align: right;\n",
       "    }\n",
       "</style>\n",
       "<table border=\"1\" class=\"dataframe\">\n",
       "  <thead>\n",
       "    <tr style=\"text-align: right;\">\n",
       "      <th></th>\n",
       "      <th>n_secciones</th>\n",
       "      <th>iso3_sede</th>\n",
       "    </tr>\n",
       "    <tr>\n",
       "      <th>sede_id</th>\n",
       "      <th></th>\n",
       "      <th></th>\n",
       "    </tr>\n",
       "  </thead>\n",
       "  <tbody>\n",
       "    <tr>\n",
       "      <th>EHAIT</th>\n",
       "      <td>7</td>\n",
       "      <td>HTI</td>\n",
       "    </tr>\n",
       "    <tr>\n",
       "      <th>EGUAT</th>\n",
       "      <td>3</td>\n",
       "      <td>GTM</td>\n",
       "    </tr>\n",
       "    <tr>\n",
       "      <th>ETAIL</th>\n",
       "      <td>6</td>\n",
       "      <td>THA</td>\n",
       "    </tr>\n",
       "    <tr>\n",
       "      <th>EBRAS</th>\n",
       "      <td>7</td>\n",
       "      <td>BRA</td>\n",
       "    </tr>\n",
       "    <tr>\n",
       "      <th>EHILE</th>\n",
       "      <td>14</td>\n",
       "      <td>CHL</td>\n",
       "    </tr>\n",
       "  </tbody>\n",
       "</table>\n",
       "</div>"
      ],
      "text/plain": [
       "         n_secciones iso3_sede\n",
       "sede_id                       \n",
       "EHAIT              7       HTI\n",
       "EGUAT              3       GTM\n",
       "ETAIL              6       THA\n",
       "EBRAS              7       BRA\n",
       "EHILE             14       CHL"
      ]
     },
     "execution_count": 21,
     "metadata": {},
     "output_type": "execute_result"
    }
   ],
   "source": [
    "esquema_sede.head()"
   ]
  },
  {
   "cell_type": "markdown",
   "metadata": {},
   "source": [
    "Bueno, hay un problema, no estamos en **FN3**.\n",
    "Necesitamos separar las redes sociales de este esquema"
   ]
  },
  {
   "cell_type": "markdown",
   "metadata": {},
   "source": [
    "Bueno, se me ocurre que podemos usar substrings tipo `facebook`, `instagram`, `linkedin` para matchear con los links, y así obtener las redes sociales de cada sección."
   ]
  },
  {
   "cell_type": "markdown",
   "metadata": {},
   "source": [
    "**Caso especial**: Nóto que para X (ex Twitter), puede aparecer los links, o los arroba (por ej: @ArEthiopia, @argenmiami)"
   ]
  },
  {
   "cell_type": "markdown",
   "metadata": {},
   "source": [
    "## Esquemas\n",
    "\n",
    "<ul style=\"list-style-type: none; padding: 0;\">\n",
    "  <li style=\"margin-bottom: 5px; padding: 10px; border-radius: 5px; background-color: green;\">sede</li>\n",
    "  <li style=\"margin-bottom: 5px; padding: 10px; border-radius: 5px; background-color: red;\">red_social</li>\n",
    "  <li style=\"margin-bottom: 5px; padding: 10px; border-radius: 5px; background-color: red;\">pais</li>\n",
    "  <li style=\"margin-bottom: 5px; padding: 10px; border-radius: 5px; background-color: red;\">inversion</li>\n",
    "</ul>"
   ]
  },
  {
   "cell_type": "markdown",
   "metadata": {},
   "source": [
    "**ESQUEMA RED_SOCIAL**"
   ]
  },
  {
   "cell_type": "markdown",
   "metadata": {},
   "source": [
    "Primero sería mas conveniente tener la columna de redes sociales como tipo lista"
   ]
  },
  {
   "cell_type": "code",
   "execution_count": 22,
   "metadata": {},
   "outputs": [],
   "source": [
    "def separar_links(rrss):\n",
    "    \"\"\"\n",
    "    Dada un string con links redes sociales separadas por //\n",
    "    devuelve un array conteniendo estos links\n",
    "    \"\"\"\n",
    "    if isinstance(rrss, str):\n",
    "        # se obtiene la lista, el separador es //\n",
    "        # se quita el ultimo elemento porque siempre es un string vacío\n",
    "        # debido a como vienen los datos\n",
    "        redes = rrss.split(\"  //  \")[:-1]\n",
    "        return redes\n",
    "    else:\n",
    "        # si es algo distinto a un string, devuelve una lista vacía\n",
    "        # (se asume que la sede no tiene redes sociales)\n",
    "        return []"
   ]
  },
  {
   "cell_type": "code",
   "execution_count": 23,
   "metadata": {},
   "outputs": [],
   "source": [
    "df_sedes_completo['redes_sociales'] = [separar_links(rrss) for rrss in df_sedes_completo['redes_sociales']]"
   ]
  },
  {
   "cell_type": "markdown",
   "metadata": {},
   "source": [
    "Pegamos un vistazo:"
   ]
  },
  {
   "cell_type": "code",
   "execution_count": 24,
   "metadata": {},
   "outputs": [
    {
     "data": {
      "text/plain": [
       "array([list(['https://twitter.com/ArgPortoAlegre', 'https://www.facebook.com/ArgentinaEnPortoAlegre/', 'https://www.instagram.com/argenportoalegre/']),\n",
       "       list(['https://www.facebook.com/Consulado-de-la-Rep%C3%BAblica-Argentina-en-Antofagasta-255728465291743/']),\n",
       "       list(['https://www.facebook.com/profile.php?id=100014152878593']),\n",
       "       list(['@ArgentinaEnAsuncion'])], dtype=object)"
      ]
     },
     "execution_count": 24,
     "metadata": {},
     "output_type": "execute_result"
    }
   ],
   "source": [
    "df_sedes_completo['redes_sociales'].values[:4]"
   ]
  },
  {
   "cell_type": "markdown",
   "metadata": {},
   "source": [
    "Bien, ya tenemos las listas con los links y arrobas a las redes sociales de cada sede."
   ]
  },
  {
   "cell_type": "markdown",
   "metadata": {},
   "source": [
    "Vamos a crear ahora una función para obtener la plataforma a la cual pertenece el Link"
   ]
  },
  {
   "cell_type": "code",
   "execution_count": 25,
   "metadata": {},
   "outputs": [],
   "source": [
    "def obtener_plataforma(link):\n",
    "    \"\"\"\n",
    "    Dado un link o un arroba, devuelve la plataforma a la cual pertenece.\n",
    "    Se utiliza para esto la sentencia LIKE de SQL\n",
    "    \"\"\"\n",
    "    consulta_plataforma = \"\"\"\n",
    "                SELECT\n",
    "                CASE\n",
    "                    WHEN $link LIKE '%facebook%' THEN 'Facebook'\n",
    "                    WHEN $link LIKE '%twitter%' OR $link LIKE '@%' THEN 'X'\n",
    "                    WHEN $link LIKE '%linkedin%' THEN 'Linkedin'\n",
    "                    WHEN $link LIKE '%instagram%' THEN 'Instagram'\n",
    "                    WHEN $link LIKE '%youtube%' THEN 'Youtube'\n",
    "                    WHEN $link LIKE '%flickr%' THEN 'Flickr'\n",
    "                    ELSE 'Desconocida'\n",
    "                END\n",
    "                \"\"\"\n",
    "    \n",
    "    plataforma = sql_val^ consulta_plataforma\n",
    "    return plataforma"
   ]
  },
  {
   "cell_type": "markdown",
   "metadata": {},
   "source": [
    "Con esta funcion estamos preparados para armar un esquema de **redes_sociales**"
   ]
  },
  {
   "cell_type": "code",
   "execution_count": 26,
   "metadata": {},
   "outputs": [],
   "source": [
    "# Primero obtenemos los datos del esquema y los guardamos en diccionarios\n",
    "data_rrss = {'sede_id':[], 'id_rs':[], 'plataforma':[]}\n",
    "\n",
    "for i, sede in df_sedes_completo.iterrows():\n",
    "    current_rrss = sede['redes_sociales']\n",
    "    for j in range(len(current_rrss)):\n",
    "        current_link = current_rrss[j]\n",
    "        data_rrss['sede_id'].append(sede['sede_id'])\n",
    "        data_rrss['id_rs'].append(current_link)\n",
    "        data_rrss['plataforma'].append(obtener_plataforma(current_link))\n"
   ]
  },
  {
   "cell_type": "markdown",
   "metadata": {},
   "source": [
    "Creamos un dataframe de rrss y nos para acesorarnos que no haya ningún link repetido (pues queremos usar los links como indeices)"
   ]
  },
  {
   "cell_type": "code",
   "execution_count": 27,
   "metadata": {},
   "outputs": [
    {
     "data": {
      "text/plain": [
       "id_rs\n",
       "@embargenqatar                                      2\n",
       "https://twitter.com/ArgPortoAlegre                  1\n",
       "https://www.facebook.com/ArgentinaEnJamaica/        1\n",
       "www.facebook.com/ArgentinaEnKenia                   1\n",
       "https://www.facebook.com/ArgJapon/?ref=bookmarks    1\n",
       "                                                   ..\n",
       "www.twitter.com/ARGEnAzer                           1\n",
       "https://www.facebook.com/ArgentinaEnBarbados/       1\n",
       "https://www.facebook.com/ArgentinaEnBelgica/        1\n",
       "https://www.instagram.com/argenbelgica/             1\n",
       "https://www.facebook.com/ArgEnPalestina             1\n",
       "Name: count, Length: 271, dtype: int64"
      ]
     },
     "execution_count": 27,
     "metadata": {},
     "output_type": "execute_result"
    }
   ],
   "source": [
    "esquema_rrss = pd.DataFrame(data_rrss)\n",
    "esquema_rrss['id_rs'].value_counts()"
   ]
  },
  {
   "cell_type": "markdown",
   "metadata": {},
   "source": [
    "Nos encontramos con que `@embargenqatar` aparece dos veces. Si miramos en df_sedes_completo se puede ver ese error."
   ]
  },
  {
   "cell_type": "code",
   "execution_count": 28,
   "metadata": {},
   "outputs": [
    {
     "data": {
      "text/html": [
       "<div>\n",
       "<style scoped>\n",
       "    .dataframe tbody tr th:only-of-type {\n",
       "        vertical-align: middle;\n",
       "    }\n",
       "\n",
       "    .dataframe tbody tr th {\n",
       "        vertical-align: top;\n",
       "    }\n",
       "\n",
       "    .dataframe thead th {\n",
       "        text-align: right;\n",
       "    }\n",
       "</style>\n",
       "<table border=\"1\" class=\"dataframe\">\n",
       "  <thead>\n",
       "    <tr style=\"text-align: right;\">\n",
       "      <th></th>\n",
       "      <th>sede_id</th>\n",
       "      <th>id_rs</th>\n",
       "      <th>plataforma</th>\n",
       "    </tr>\n",
       "  </thead>\n",
       "  <tbody>\n",
       "    <tr>\n",
       "      <th>217</th>\n",
       "      <td>EQATR</td>\n",
       "      <td>@embargenqatar</td>\n",
       "      <td>X</td>\n",
       "    </tr>\n",
       "    <tr>\n",
       "      <th>218</th>\n",
       "      <td>EQATR</td>\n",
       "      <td>@embargenqatar</td>\n",
       "      <td>X</td>\n",
       "    </tr>\n",
       "  </tbody>\n",
       "</table>\n",
       "</div>"
      ],
      "text/plain": [
       "    sede_id           id_rs plataforma\n",
       "217   EQATR  @embargenqatar          X\n",
       "218   EQATR  @embargenqatar          X"
      ]
     },
     "execution_count": 28,
     "metadata": {},
     "output_type": "execute_result"
    }
   ],
   "source": [
    "esquema_rrss[esquema_rrss['id_rs'] == '@embargenqatar']"
   ]
  },
  {
   "cell_type": "markdown",
   "metadata": {},
   "source": [
    "Efectivamente es una fila duplicada. Eliminamos una de ellas."
   ]
  },
  {
   "cell_type": "code",
   "execution_count": 29,
   "metadata": {},
   "outputs": [
    {
     "name": "stdout",
     "output_type": "stream",
     "text": [
      "Ahora hay 272 filas\n",
      "Despues de eliminar los duplicados hay 271 filas\n"
     ]
    }
   ],
   "source": [
    "print(f'Ahora hay {len(esquema_rrss.index)} filas')\n",
    "esquema_rrss.drop_duplicates(inplace=True)\n",
    "print(f'Despues de eliminar los duplicados hay {len(esquema_rrss.index)} filas')"
   ]
  },
  {
   "cell_type": "markdown",
   "metadata": {},
   "source": [
    "Perfecto, solo habia una fila duplicada, y era la que habiamos identificado."
   ]
  },
  {
   "cell_type": "code",
   "execution_count": 30,
   "metadata": {},
   "outputs": [],
   "source": [
    "esquema_rrss.set_index('id_rs', inplace=True)"
   ]
  },
  {
   "cell_type": "code",
   "execution_count": 31,
   "metadata": {},
   "outputs": [
    {
     "data": {
      "text/html": [
       "<div>\n",
       "<style scoped>\n",
       "    .dataframe tbody tr th:only-of-type {\n",
       "        vertical-align: middle;\n",
       "    }\n",
       "\n",
       "    .dataframe tbody tr th {\n",
       "        vertical-align: top;\n",
       "    }\n",
       "\n",
       "    .dataframe thead th {\n",
       "        text-align: right;\n",
       "    }\n",
       "</style>\n",
       "<table border=\"1\" class=\"dataframe\">\n",
       "  <thead>\n",
       "    <tr style=\"text-align: right;\">\n",
       "      <th></th>\n",
       "      <th>sede_id</th>\n",
       "      <th>plataforma</th>\n",
       "    </tr>\n",
       "    <tr>\n",
       "      <th>id_rs</th>\n",
       "      <th></th>\n",
       "      <th></th>\n",
       "    </tr>\n",
       "  </thead>\n",
       "  <tbody>\n",
       "    <tr>\n",
       "      <th>https://twitter.com/ArgPortoAlegre</th>\n",
       "      <td>CALEG</td>\n",
       "      <td>X</td>\n",
       "    </tr>\n",
       "    <tr>\n",
       "      <th>https://www.facebook.com/ArgentinaEnPortoAlegre/</th>\n",
       "      <td>CALEG</td>\n",
       "      <td>Facebook</td>\n",
       "    </tr>\n",
       "    <tr>\n",
       "      <th>https://www.instagram.com/argenportoalegre/</th>\n",
       "      <td>CALEG</td>\n",
       "      <td>Instagram</td>\n",
       "    </tr>\n",
       "    <tr>\n",
       "      <th>https://www.facebook.com/Consulado-de-la-Rep%C3%BAblica-Argentina-en-Antofagasta-255728465291743/</th>\n",
       "      <td>CANTO</td>\n",
       "      <td>Facebook</td>\n",
       "    </tr>\n",
       "    <tr>\n",
       "      <th>https://www.facebook.com/profile.php?id=100014152878593</th>\n",
       "      <td>CAREN</td>\n",
       "      <td>Facebook</td>\n",
       "    </tr>\n",
       "  </tbody>\n",
       "</table>\n",
       "</div>"
      ],
      "text/plain": [
       "                                                   sede_id plataforma\n",
       "id_rs                                                                \n",
       "https://twitter.com/ArgPortoAlegre                   CALEG          X\n",
       "https://www.facebook.com/ArgentinaEnPortoAlegre/     CALEG   Facebook\n",
       "https://www.instagram.com/argenportoalegre/          CALEG  Instagram\n",
       "https://www.facebook.com/Consulado-de-la-Rep%C3...   CANTO   Facebook\n",
       "https://www.facebook.com/profile.php?id=1000141...   CAREN   Facebook"
      ]
     },
     "execution_count": 31,
     "metadata": {},
     "output_type": "execute_result"
    }
   ],
   "source": [
    "esquema_rrss.head()"
   ]
  },
  {
   "cell_type": "markdown",
   "metadata": {},
   "source": [
    "## Esquemas\n",
    "\n",
    "<ul style=\"list-style-type: none; padding: 0;\">\n",
    "  <li style=\"margin-bottom: 5px; padding: 10px; border-radius: 5px; background-color: green;\">sede</li>\n",
    "  <li style=\"margin-bottom: 5px; padding: 10px; border-radius: 5px; background-color: green;\">red_social</li>\n",
    "  <li style=\"margin-bottom: 5px; padding: 10px; border-radius: 5px; background-color: red;\">pais</li>\n",
    "  <li style=\"margin-bottom: 5px; padding: 10px; border-radius: 5px; background-color: red;\">inversion</li>\n",
    "</ul>"
   ]
  },
  {
   "cell_type": "markdown",
   "metadata": {},
   "source": [
    "**ESQUEMA PAÍS**"
   ]
  },
  {
   "cell_type": "code",
   "execution_count": 32,
   "metadata": {},
   "outputs": [
    {
     "data": {
      "text/plain": [
       "Index(['nombre', ' name', ' nom', ' iso2', ' iso3', ' phone_code'], dtype='object')"
      ]
     },
     "execution_count": 32,
     "metadata": {},
     "output_type": "execute_result"
    }
   ],
   "source": [
    "df_paises.columns"
   ]
  },
  {
   "cell_type": "markdown",
   "metadata": {},
   "source": [
    "Los nombres de las columnas tienen un espacio por delante, arreglemos eso."
   ]
  },
  {
   "cell_type": "code",
   "execution_count": 33,
   "metadata": {},
   "outputs": [],
   "source": [
    "df_paises.rename(columns={' name':'name', ' nom':'nom', ' iso2':'iso2', ' iso3':'iso3', ' phone_code':'phone_code'},\n",
    "                 inplace=True)"
   ]
  },
  {
   "cell_type": "code",
   "execution_count": 34,
   "metadata": {},
   "outputs": [],
   "source": [
    "consulta_pais = \"\"\"\n",
    "                SELECT DISTINCT p.iso3, p.nombre, s.region_geografica\n",
    "                FROM df_sedes_completo s\n",
    "                LEFT JOIN df_paises p\n",
    "                ON s.pais_iso_3 = p.iso3\n",
    "                \"\"\""
   ]
  },
  {
   "cell_type": "code",
   "execution_count": 35,
   "metadata": {},
   "outputs": [],
   "source": [
    "esquema_pais = sql^ consulta_pais"
   ]
  },
  {
   "cell_type": "code",
   "execution_count": 36,
   "metadata": {},
   "outputs": [
    {
     "data": {
      "text/html": [
       "<div>\n",
       "<style scoped>\n",
       "    .dataframe tbody tr th:only-of-type {\n",
       "        vertical-align: middle;\n",
       "    }\n",
       "\n",
       "    .dataframe tbody tr th {\n",
       "        vertical-align: top;\n",
       "    }\n",
       "\n",
       "    .dataframe thead th {\n",
       "        text-align: right;\n",
       "    }\n",
       "</style>\n",
       "<table border=\"1\" class=\"dataframe\">\n",
       "  <thead>\n",
       "    <tr style=\"text-align: right;\">\n",
       "      <th></th>\n",
       "      <th>nombre</th>\n",
       "      <th>region_geografica</th>\n",
       "    </tr>\n",
       "    <tr>\n",
       "      <th>iso3</th>\n",
       "      <th></th>\n",
       "      <th></th>\n",
       "    </tr>\n",
       "  </thead>\n",
       "  <tbody>\n",
       "    <tr>\n",
       "      <th>CHL</th>\n",
       "      <td>Chile</td>\n",
       "      <td>AMÉRICA  DEL  SUR</td>\n",
       "    </tr>\n",
       "    <tr>\n",
       "      <th>CAN</th>\n",
       "      <td>Canadá</td>\n",
       "      <td>AMÉRICA  DEL  NORTE</td>\n",
       "    </tr>\n",
       "    <tr>\n",
       "      <th>ZAF</th>\n",
       "      <td>Sudáfrica</td>\n",
       "      <td>ÁFRICA  SUBSAHARIANA</td>\n",
       "    </tr>\n",
       "    <tr>\n",
       "      <th>ITA</th>\n",
       "      <td>Italia</td>\n",
       "      <td>EUROPA  OCCIDENTAL</td>\n",
       "    </tr>\n",
       "    <tr>\n",
       "      <th>AGO</th>\n",
       "      <td>Angola</td>\n",
       "      <td>ÁFRICA  SUBSAHARIANA</td>\n",
       "    </tr>\n",
       "  </tbody>\n",
       "</table>\n",
       "</div>"
      ],
      "text/plain": [
       "         nombre     region_geografica\n",
       "iso3                                 \n",
       "CHL       Chile     AMÉRICA  DEL  SUR\n",
       "CAN      Canadá   AMÉRICA  DEL  NORTE\n",
       "ZAF   Sudáfrica  ÁFRICA  SUBSAHARIANA\n",
       "ITA      Italia    EUROPA  OCCIDENTAL\n",
       "AGO      Angola  ÁFRICA  SUBSAHARIANA"
      ]
     },
     "execution_count": 36,
     "metadata": {},
     "output_type": "execute_result"
    }
   ],
   "source": [
    "esquema_pais.set_index('iso3', inplace=True)\n",
    "esquema_pais.head()"
   ]
  },
  {
   "cell_type": "markdown",
   "metadata": {},
   "source": [
    "## ESQUEMAS\n",
    "\n",
    "<ul style=\"list-style-type: none; padding: 0;\">\n",
    "  <li style=\"margin-bottom: 5px; padding: 10px; border-radius: 5px; background-color: green;\">sede</li>\n",
    "  <li style=\"margin-bottom: 5px; padding: 10px; border-radius: 5px; background-color: green;\">red_social</li>\n",
    "  <li style=\"margin-bottom: 5px; padding: 10px; border-radius: 5px; background-color: green;\">pais</li>\n",
    "  <li style=\"margin-bottom: 5px; padding: 10px; border-radius: 5px; background-color: red;\">inversion</li>\n",
    "</ul>"
   ]
  },
  {
   "cell_type": "markdown",
   "metadata": {},
   "source": [
    "**ESQUEMA INVERSION**"
   ]
  },
  {
   "cell_type": "markdown",
   "metadata": {},
   "source": [
    "Bueno, primero notamos que solo necesitamos los años entre 2018 y 2022 para cumplir con los objetivos del trabajo.\n",
    "Decidimos por lo tanto deshacernos del resto de las columnas que corresponden a años anteriores."
   ]
  },
  {
   "cell_type": "code",
   "execution_count": 37,
   "metadata": {},
   "outputs": [],
   "source": [
    "df_IED = df_IED[[2018, 2019, 2020, 2021, 2022]]"
   ]
  },
  {
   "cell_type": "code",
   "execution_count": 38,
   "metadata": {},
   "outputs": [
    {
     "data": {
      "text/html": [
       "<div>\n",
       "<style scoped>\n",
       "    .dataframe tbody tr th:only-of-type {\n",
       "        vertical-align: middle;\n",
       "    }\n",
       "\n",
       "    .dataframe tbody tr th {\n",
       "        vertical-align: top;\n",
       "    }\n",
       "\n",
       "    .dataframe thead th {\n",
       "        text-align: right;\n",
       "    }\n",
       "</style>\n",
       "<table border=\"1\" class=\"dataframe\">\n",
       "  <thead>\n",
       "    <tr style=\"text-align: right;\">\n",
       "      <th></th>\n",
       "      <th>2018</th>\n",
       "      <th>2019</th>\n",
       "      <th>2020</th>\n",
       "      <th>2021</th>\n",
       "      <th>2022</th>\n",
       "    </tr>\n",
       "    <tr>\n",
       "      <th>pais</th>\n",
       "      <th></th>\n",
       "      <th></th>\n",
       "      <th></th>\n",
       "      <th></th>\n",
       "      <th></th>\n",
       "    </tr>\n",
       "  </thead>\n",
       "  <tbody>\n",
       "    <tr>\n",
       "      <th>afganistan</th>\n",
       "      <td>119.435106</td>\n",
       "      <td>23.404554</td>\n",
       "      <td>12.970148</td>\n",
       "      <td>20.600976</td>\n",
       "      <td>NaN</td>\n",
       "    </tr>\n",
       "    <tr>\n",
       "      <th>albania</th>\n",
       "      <td>1289.689054</td>\n",
       "      <td>1287.966989</td>\n",
       "      <td>1108.159167</td>\n",
       "      <td>1233.917686</td>\n",
       "      <td>1434.125507</td>\n",
       "    </tr>\n",
       "    <tr>\n",
       "      <th>argelia</th>\n",
       "      <td>1474.589069</td>\n",
       "      <td>1381.812310</td>\n",
       "      <td>1142.640690</td>\n",
       "      <td>869.656570</td>\n",
       "      <td>88.768519</td>\n",
       "    </tr>\n",
       "    <tr>\n",
       "      <th>angola</th>\n",
       "      <td>-6456.076413</td>\n",
       "      <td>-4098.478748</td>\n",
       "      <td>-1866.468113</td>\n",
       "      <td>-4355.116553</td>\n",
       "      <td>-6142.248848</td>\n",
       "    </tr>\n",
       "    <tr>\n",
       "      <th>argentina</th>\n",
       "      <td>11716.583568</td>\n",
       "      <td>6649.187838</td>\n",
       "      <td>4722.648813</td>\n",
       "      <td>6782.348887</td>\n",
       "      <td>15087.398354</td>\n",
       "    </tr>\n",
       "  </tbody>\n",
       "</table>\n",
       "</div>"
      ],
      "text/plain": [
       "                    2018         2019         2020         2021          2022\n",
       "pais                                                                         \n",
       "afganistan    119.435106    23.404554    12.970148    20.600976           NaN\n",
       "albania      1289.689054  1287.966989  1108.159167  1233.917686   1434.125507\n",
       "argelia      1474.589069  1381.812310  1142.640690   869.656570     88.768519\n",
       "angola      -6456.076413 -4098.478748 -1866.468113 -4355.116553  -6142.248848\n",
       "argentina   11716.583568  6649.187838  4722.648813  6782.348887  15087.398354"
      ]
     },
     "execution_count": 38,
     "metadata": {},
     "output_type": "execute_result"
    }
   ],
   "source": [
    "df_IED.head()"
   ]
  },
  {
   "cell_type": "markdown",
   "metadata": {},
   "source": [
    "El mayor problema ahora está dado por el numbre de los países, que el formato tiene **dos diferencias**\n",
    "cuando se lo compara con el de `df_paises`:\n",
    "\n",
    "    - No empieza con mayuscula\n",
    "    - En lugar de espacios tienen un guion bajo _\n",
    "    - No hay tildes"
   ]
  },
  {
   "cell_type": "markdown",
   "metadata": {},
   "source": [
    "//\n",
    "Esto se podria resolver primero cambiando el guiony el espacio por un string vacio, y luego a la hora de comparar estos dos valores, simplemente podriamos usar LOWER para sacar la mayuscula del df paises. Tambien va a ser necesario quitar los tildes (esto va a ser mas facil usando python)"
   ]
  },
  {
   "cell_type": "markdown",
   "metadata": {},
   "source": [
    "Pero ni siquiera esto lo solucionaria, pues en la tabla de IED hay nombres de paises mal escritos, por ej 'rep_de_corea' o 'kazakhstan'"
   ]
  },
  {
   "cell_type": "markdown",
   "metadata": {},
   "source": [
    "Podemos hacer el intento de con un programa arreglar todos los que se puedan, y luego ver cuales quedaron sin Matchear por algún error. Y arreglarlos manualmente a travez de codigo, si tenemos suerte serán pocos."
   ]
  },
  {
   "cell_type": "code",
   "execution_count": 39,
   "metadata": {},
   "outputs": [],
   "source": [
    "# ponemos los paises como una columna, para poder usarlo en SQL\n",
    "df_IED['pais'] = df_IED.index"
   ]
  },
  {
   "cell_type": "code",
   "execution_count": 40,
   "metadata": {},
   "outputs": [],
   "source": [
    "def quitar_tildes(nombre_pais):\n",
    "    # toma un string y quita todos los tildes sobre vocales\n",
    "    pais_sin_tildes = nombre_pais\n",
    "    pais_sin_tildes = pais_sin_tildes.replace('á','a').replace('é','e').replace('ú','u').replace('ó','o').replace('í','i')\n",
    "\n",
    "    return pais_sin_tildes"
   ]
  },
  {
   "cell_type": "code",
   "execution_count": 41,
   "metadata": {},
   "outputs": [],
   "source": [
    "df_paises['nombre'] = [quitar_tildes(pais.lower()) for pais in df_paises['nombre'].values]"
   ]
  },
  {
   "cell_type": "markdown",
   "metadata": {},
   "source": [
    "Ya no tienen tildes, ahora hagamos la consulta sql"
   ]
  },
  {
   "cell_type": "code",
   "execution_count": 42,
   "metadata": {},
   "outputs": [],
   "source": [
    "def pais_a_iso3(nombre_pais):\n",
    "    \"\"\"\n",
    "    Obtiene el iso3 de un pais usando su nombre,\n",
    "    se usan funciones de SQL para eliminar diferencias\n",
    "    en el formato de los dos dataframes.\n",
    "    \"\"\"\n",
    "\n",
    "    consulta_pais_iso3 = \"\"\"\n",
    "                    SELECT iso3\n",
    "                    FROM df_paises\n",
    "                    WHERE REPLACE(nombre, ' ','') = REPLACE($nombre_pais, '_','')\n",
    "                    OR LOWER(REPLACE(name, ' ','')) = REPLACE($nombre_pais, '_','')\n",
    "                    \"\"\"\n",
    "    pais = sql_val^ consulta_pais_iso3\n",
    "    if pais != None:\n",
    "        return pais\n",
    "    else:\n",
    "        return nombre_pais"
   ]
  },
  {
   "cell_type": "code",
   "execution_count": 43,
   "metadata": {},
   "outputs": [],
   "source": [
    "iso3 = [pais_a_iso3(nombre_pais) for nombre_pais in df_IED['pais']]"
   ]
  },
  {
   "cell_type": "code",
   "execution_count": 44,
   "metadata": {},
   "outputs": [],
   "source": [
    "df_IED['pais'] = iso3"
   ]
  },
  {
   "cell_type": "code",
   "execution_count": 45,
   "metadata": {},
   "outputs": [
    {
     "data": {
      "text/html": [
       "<div>\n",
       "<style scoped>\n",
       "    .dataframe tbody tr th:only-of-type {\n",
       "        vertical-align: middle;\n",
       "    }\n",
       "\n",
       "    .dataframe tbody tr th {\n",
       "        vertical-align: top;\n",
       "    }\n",
       "\n",
       "    .dataframe thead th {\n",
       "        text-align: right;\n",
       "    }\n",
       "</style>\n",
       "<table border=\"1\" class=\"dataframe\">\n",
       "  <thead>\n",
       "    <tr style=\"text-align: right;\">\n",
       "      <th></th>\n",
       "      <th>2018</th>\n",
       "      <th>2019</th>\n",
       "      <th>2020</th>\n",
       "      <th>2021</th>\n",
       "      <th>2022</th>\n",
       "      <th>pais</th>\n",
       "    </tr>\n",
       "    <tr>\n",
       "      <th>pais</th>\n",
       "      <th></th>\n",
       "      <th></th>\n",
       "      <th></th>\n",
       "      <th></th>\n",
       "      <th></th>\n",
       "      <th></th>\n",
       "    </tr>\n",
       "  </thead>\n",
       "  <tbody>\n",
       "    <tr>\n",
       "      <th>afganistan</th>\n",
       "      <td>119.435106</td>\n",
       "      <td>23.404554</td>\n",
       "      <td>12.970148</td>\n",
       "      <td>20.600976</td>\n",
       "      <td>NaN</td>\n",
       "      <td>AFG</td>\n",
       "    </tr>\n",
       "    <tr>\n",
       "      <th>albania</th>\n",
       "      <td>1289.689054</td>\n",
       "      <td>1287.966989</td>\n",
       "      <td>1108.159167</td>\n",
       "      <td>1233.917686</td>\n",
       "      <td>1434.125507</td>\n",
       "      <td>ALB</td>\n",
       "    </tr>\n",
       "    <tr>\n",
       "      <th>argelia</th>\n",
       "      <td>1474.589069</td>\n",
       "      <td>1381.812310</td>\n",
       "      <td>1142.640690</td>\n",
       "      <td>869.656570</td>\n",
       "      <td>88.768519</td>\n",
       "      <td>DZA</td>\n",
       "    </tr>\n",
       "    <tr>\n",
       "      <th>angola</th>\n",
       "      <td>-6456.076413</td>\n",
       "      <td>-4098.478748</td>\n",
       "      <td>-1866.468113</td>\n",
       "      <td>-4355.116553</td>\n",
       "      <td>-6142.248848</td>\n",
       "      <td>AGO</td>\n",
       "    </tr>\n",
       "    <tr>\n",
       "      <th>argentina</th>\n",
       "      <td>11716.583568</td>\n",
       "      <td>6649.187838</td>\n",
       "      <td>4722.648813</td>\n",
       "      <td>6782.348887</td>\n",
       "      <td>15087.398354</td>\n",
       "      <td>ARG</td>\n",
       "    </tr>\n",
       "  </tbody>\n",
       "</table>\n",
       "</div>"
      ],
      "text/plain": [
       "                    2018         2019         2020         2021          2022  \\\n",
       "pais                                                                            \n",
       "afganistan    119.435106    23.404554    12.970148    20.600976           NaN   \n",
       "albania      1289.689054  1287.966989  1108.159167  1233.917686   1434.125507   \n",
       "argelia      1474.589069  1381.812310  1142.640690   869.656570     88.768519   \n",
       "angola      -6456.076413 -4098.478748 -1866.468113 -4355.116553  -6142.248848   \n",
       "argentina   11716.583568  6649.187838  4722.648813  6782.348887  15087.398354   \n",
       "\n",
       "           pais  \n",
       "pais             \n",
       "afganistan  AFG  \n",
       "albania     ALB  \n",
       "argelia     DZA  \n",
       "angola      AGO  \n",
       "argentina   ARG  "
      ]
     },
     "execution_count": 45,
     "metadata": {},
     "output_type": "execute_result"
    }
   ],
   "source": [
    "df_IED.head()"
   ]
  },
  {
   "cell_type": "code",
   "execution_count": 46,
   "metadata": {},
   "outputs": [
    {
     "name": "stdout",
     "output_type": "stream",
     "text": [
      "Hay 5 sin datos de inversion\n"
     ]
    }
   ],
   "source": [
    "# cuantas filas hay con null en todos los años?\n",
    "filas_nan = df_IED[df_IED[[2018,2019,2020,2021,2022]].isna().all(axis=1)].shape[0]\n",
    "print(f'Hay {filas_nan} sin datos de inversion')"
   ]
  },
  {
   "cell_type": "code",
   "execution_count": 47,
   "metadata": {},
   "outputs": [
    {
     "name": "stdout",
     "output_type": "stream",
     "text": [
      "Hay 0 sin datos de inversion\n"
     ]
    }
   ],
   "source": [
    "# Eliminamos estas filas\n",
    "df_IED.dropna(subset=[2018,2019,2020,2021,2022], how=\"all\", inplace = True)\n",
    "\n",
    "filas_nan = df_IED[df_IED[[2018,2019,2020,2021,2022]].isna().all(axis=1)].shape[0]\n",
    "print(f'Hay {filas_nan} sin datos de inversion')"
   ]
  },
  {
   "cell_type": "markdown",
   "metadata": {},
   "source": [
    "Veamos cuantos quedaron sin pasar a iso3, para esto chequeamos que solo tengan 3 caracteres de largo."
   ]
  },
  {
   "cell_type": "code",
   "execution_count": 48,
   "metadata": {},
   "outputs": [
    {
     "name": "stdout",
     "output_type": "stream",
     "text": [
      "['bosnia_herzegovina', 'brunei_darussalam', 'china_rae_de_hong_kong', 'china_rae_de_macao', 'china_provincia_de_taiwan', 'congo', 'cote_divoire', 'czechia', 'rep_dem_del_congo', 'polinesia_frances', 'guinea_bissau', 'guayana', 'rep_de_corea', 'mejico', 'katar', 'republica_de_moldova', 'federacion_rusa', 'santo_tome_principe', 'espanna', 'estado_de_palestina', 'tfyr_de_macedonia', 'trinidad_tobago', 'estados_unidos']\n",
      "\n",
      "son 23 paises\n"
     ]
    }
   ],
   "source": [
    "a_corregir = []\n",
    "for pais in df_IED['pais'].values:\n",
    "    if len(pais) != 3:\n",
    "        a_corregir.append(pais)\n",
    "\n",
    "print(a_corregir)\n",
    "print('\\n' + f'son {len(a_corregir)} paises')"
   ]
  },
  {
   "cell_type": "markdown",
   "metadata": {},
   "source": [
    "Hay ciertos paises que quedaron afuera, y creemos que merecen la pena agregarlos uno por uno, por ejemplo:\n",
    "\n",
    "    - Estados Unidos\n",
    "    - Mexico\n",
    "    - España\n",
    "    - Corea del Sur\n",
    "    - Rusia\n",
    "    - Emiratos Arabes Unidos"
   ]
  },
  {
   "cell_type": "markdown",
   "metadata": {},
   "source": [
    "**Notar** este paso es arbitrario y solo depende del criterio del analista."
   ]
  },
  {
   "cell_type": "code",
   "execution_count": 49,
   "metadata": {},
   "outputs": [],
   "source": [
    "del(pais_a_iso3)\n",
    "def pais_a_iso3(nombre_pais):\n",
    "    \"\"\"\n",
    "    Obtiene el iso3 de un pais usando su nombre,\n",
    "    se usan funciones de SQL para eliminar diferencias\n",
    "    en el formato de los dos dataframes.\n",
    "    \"\"\"\n",
    "\n",
    "    consulta_pais_iso3 = \"\"\"\n",
    "                    SELECT iso3\n",
    "                    FROM df_paises\n",
    "                    WHERE REPLACE(nombre, ' ','') =\n",
    "                                REPLACE(\n",
    "                                REPLACE(\n",
    "                                REPLACE(\n",
    "                                REPLACE(\n",
    "                                REPLACE(\n",
    "                                REPLACE(\n",
    "                                REPLACE(\n",
    "                                REPLACE(\n",
    "                                REPLACE(\n",
    "                                REPLACE(\n",
    "                                REPLACE(\n",
    "                                REPLACE(\n",
    "                                REPLACE(\n",
    "                                REPLACE(\n",
    "                                REPLACE(\n",
    "                                REPLACE(\n",
    "                                REPLACE(\n",
    "                                REPLACE(\n",
    "                                REPLACE(\n",
    "                                REPLACE($nombre_pais, '_',''),\n",
    "                                  'mejico','mexico'),\n",
    "                                  'nn','ñ'),\n",
    "                                  'estadosunidos','estadosunidosdeamerica'),\n",
    "                                  'chinaprovinciade', ''),\n",
    "                                  'chinaraede',''),\n",
    "                                  'repdecorea','coreadelsur'),\n",
    "                                  'katar','qatar'),\n",
    "                                  'federacionrusa','rusia'),\n",
    "                                  'czechia','republicacheca'),\n",
    "                                  'guineabissau','guinea-bissau'),\n",
    "                                  'polinesiafrances','polinesiafrancesa'),\n",
    "                                  'santotomeprincipe','santotomeyprincipe'),\n",
    "                                  'estadodepalestina','palestina'),\n",
    "                                  'bosniaherzegovina','bosniayherzegovina'),\n",
    "                                  'bruneidarussalam','brunei'),\n",
    "                                  'repdemdel','republicademocraticadel'),\n",
    "                                  'guayana','guayanafrancesa'),\n",
    "                                  'republicademoldova','moldavia'),\n",
    "                                  'trinidadtobago','trinidadytobago')\n",
    "                    OR LOWER(REPLACE(name, ' ','')) = REPLACE($nombre_pais, '_','')\n",
    "                    \"\"\"\n",
    "    pais = sql_val^ consulta_pais_iso3\n",
    "    if pais != None:\n",
    "        return pais\n",
    "    else:\n",
    "        return nombre_pais"
   ]
  },
  {
   "cell_type": "code",
   "execution_count": 50,
   "metadata": {},
   "outputs": [],
   "source": [
    "iso3 = [pais_a_iso3(nombre_pais) for nombre_pais in df_IED['pais']]\n",
    "df_IED['pais'] = iso3"
   ]
  },
  {
   "cell_type": "code",
   "execution_count": 51,
   "metadata": {},
   "outputs": [
    {
     "name": "stdout",
     "output_type": "stream",
     "text": [
      "['congo', 'cote_divoire', 'tfyr_de_macedonia']\n",
      "\n",
      "son 3 paises\n"
     ]
    }
   ],
   "source": [
    "a_corregir = []\n",
    "for pais in df_IED['pais'].values:\n",
    "    if len(pais) != 3:\n",
    "        a_corregir.append(pais)\n",
    "\n",
    "print(a_corregir)\n",
    "print('\\n' + f'son {len(a_corregir)} paises')"
   ]
  },
  {
   "cell_type": "markdown",
   "metadata": {},
   "source": [
    "Notar que logramos obtener el iso3 de los paises que dimos como ejemplo e incluso algunos mas."
   ]
  },
  {
   "cell_type": "markdown",
   "metadata": {},
   "source": [
    "Ahora pasamos el dataframe a formato para obtener la idea de esquema que planteamos. Esto es hacer que los datos de algunas columnas pasen a ser valores de filas."
   ]
  },
  {
   "cell_type": "code",
   "execution_count": 52,
   "metadata": {},
   "outputs": [],
   "source": [
    "# Esto hace que las columnas de año se fusionen en una sola\n",
    "# ahora el pk esta formado por pais y año.\n",
    "esquema_IED = pd.melt(df_IED, id_vars=['pais']\\\n",
    "                    , value_vars=[2018,2019,2020,2021,2022]\\\n",
    "                    ,var_name='anio', value_name='inversion')"
   ]
  },
  {
   "cell_type": "code",
   "execution_count": 53,
   "metadata": {},
   "outputs": [
    {
     "data": {
      "text/html": [
       "<div>\n",
       "<style scoped>\n",
       "    .dataframe tbody tr th:only-of-type {\n",
       "        vertical-align: middle;\n",
       "    }\n",
       "\n",
       "    .dataframe tbody tr th {\n",
       "        vertical-align: top;\n",
       "    }\n",
       "\n",
       "    .dataframe thead th {\n",
       "        text-align: right;\n",
       "    }\n",
       "</style>\n",
       "<table border=\"1\" class=\"dataframe\">\n",
       "  <thead>\n",
       "    <tr style=\"text-align: right;\">\n",
       "      <th></th>\n",
       "      <th>pais</th>\n",
       "      <th>anio</th>\n",
       "      <th>inversion</th>\n",
       "    </tr>\n",
       "  </thead>\n",
       "  <tbody>\n",
       "    <tr>\n",
       "      <th>0</th>\n",
       "      <td>AFG</td>\n",
       "      <td>2018</td>\n",
       "      <td>119.435106</td>\n",
       "    </tr>\n",
       "    <tr>\n",
       "      <th>1</th>\n",
       "      <td>ALB</td>\n",
       "      <td>2018</td>\n",
       "      <td>1289.689054</td>\n",
       "    </tr>\n",
       "    <tr>\n",
       "      <th>2</th>\n",
       "      <td>DZA</td>\n",
       "      <td>2018</td>\n",
       "      <td>1474.589069</td>\n",
       "    </tr>\n",
       "    <tr>\n",
       "      <th>3</th>\n",
       "      <td>AGO</td>\n",
       "      <td>2018</td>\n",
       "      <td>-6456.076413</td>\n",
       "    </tr>\n",
       "    <tr>\n",
       "      <th>4</th>\n",
       "      <td>ARG</td>\n",
       "      <td>2018</td>\n",
       "      <td>11716.583568</td>\n",
       "    </tr>\n",
       "    <tr>\n",
       "      <th>5</th>\n",
       "      <td>ARM</td>\n",
       "      <td>2018</td>\n",
       "      <td>266.855049</td>\n",
       "    </tr>\n",
       "    <tr>\n",
       "      <th>6</th>\n",
       "      <td>ABW</td>\n",
       "      <td>2018</td>\n",
       "      <td>110.175650</td>\n",
       "    </tr>\n",
       "    <tr>\n",
       "      <th>7</th>\n",
       "      <td>AUS</td>\n",
       "      <td>2018</td>\n",
       "      <td>67568.132981</td>\n",
       "    </tr>\n",
       "    <tr>\n",
       "      <th>8</th>\n",
       "      <td>AUT</td>\n",
       "      <td>2018</td>\n",
       "      <td>5389.769142</td>\n",
       "    </tr>\n",
       "    <tr>\n",
       "      <th>9</th>\n",
       "      <td>AZE</td>\n",
       "      <td>2018</td>\n",
       "      <td>1403.000000</td>\n",
       "    </tr>\n",
       "    <tr>\n",
       "      <th>10</th>\n",
       "      <td>BHS</td>\n",
       "      <td>2018</td>\n",
       "      <td>947.430032</td>\n",
       "    </tr>\n",
       "    <tr>\n",
       "      <th>11</th>\n",
       "      <td>BHR</td>\n",
       "      <td>2018</td>\n",
       "      <td>1654.255319</td>\n",
       "    </tr>\n",
       "    <tr>\n",
       "      <th>12</th>\n",
       "      <td>BGD</td>\n",
       "      <td>2018</td>\n",
       "      <td>3613.300000</td>\n",
       "    </tr>\n",
       "    <tr>\n",
       "      <th>13</th>\n",
       "      <td>BRB</td>\n",
       "      <td>2018</td>\n",
       "      <td>241.596500</td>\n",
       "    </tr>\n",
       "    <tr>\n",
       "      <th>14</th>\n",
       "      <td>BLR</td>\n",
       "      <td>2018</td>\n",
       "      <td>1421.000000</td>\n",
       "    </tr>\n",
       "    <tr>\n",
       "      <th>15</th>\n",
       "      <td>BEL</td>\n",
       "      <td>2018</td>\n",
       "      <td>27137.175060</td>\n",
       "    </tr>\n",
       "    <tr>\n",
       "      <th>16</th>\n",
       "      <td>BLZ</td>\n",
       "      <td>2018</td>\n",
       "      <td>118.275547</td>\n",
       "    </tr>\n",
       "    <tr>\n",
       "      <th>17</th>\n",
       "      <td>BEN</td>\n",
       "      <td>2018</td>\n",
       "      <td>194.073683</td>\n",
       "    </tr>\n",
       "    <tr>\n",
       "      <th>18</th>\n",
       "      <td>BMU</td>\n",
       "      <td>2018</td>\n",
       "      <td>95.416371</td>\n",
       "    </tr>\n",
       "    <tr>\n",
       "      <th>19</th>\n",
       "      <td>BOL</td>\n",
       "      <td>2018</td>\n",
       "      <td>302.368781</td>\n",
       "    </tr>\n",
       "  </tbody>\n",
       "</table>\n",
       "</div>"
      ],
      "text/plain": [
       "   pais  anio     inversion\n",
       "0   AFG  2018    119.435106\n",
       "1   ALB  2018   1289.689054\n",
       "2   DZA  2018   1474.589069\n",
       "3   AGO  2018  -6456.076413\n",
       "4   ARG  2018  11716.583568\n",
       "5   ARM  2018    266.855049\n",
       "6   ABW  2018    110.175650\n",
       "7   AUS  2018  67568.132981\n",
       "8   AUT  2018   5389.769142\n",
       "9   AZE  2018   1403.000000\n",
       "10  BHS  2018    947.430032\n",
       "11  BHR  2018   1654.255319\n",
       "12  BGD  2018   3613.300000\n",
       "13  BRB  2018    241.596500\n",
       "14  BLR  2018   1421.000000\n",
       "15  BEL  2018  27137.175060\n",
       "16  BLZ  2018    118.275547\n",
       "17  BEN  2018    194.073683\n",
       "18  BMU  2018     95.416371\n",
       "19  BOL  2018    302.368781"
      ]
     },
     "execution_count": 53,
     "metadata": {},
     "output_type": "execute_result"
    }
   ],
   "source": [
    "esquema_IED.head(20)"
   ]
  },
  {
   "cell_type": "code",
   "execution_count": 54,
   "metadata": {},
   "outputs": [],
   "source": [
    "# guardamos todos los esquemas en la carpeta TablasLimpias\n",
    "esquema_pais.to_csv(\"TablasLimpias/esquema_pais.csv\")\n",
    "esquema_rrss.to_csv(\"TablasLimpias/esquema_rrss.csv\")\n",
    "esquema_sede.to_csv(\"TablasLimpias/esquema_sede.csv\")\n",
    "esquema_IED.to_csv(\"TablasLimpias/esquema_IED.csv\")"
   ]
  },
  {
   "cell_type": "markdown",
   "metadata": {},
   "source": [
    "<h2>Ahora pasamos a realizar las consultas SQL</h2>\n",
    "\n",
    "**i) Para cada país informar cantidad de sedes, cantidad de secciones en promedio que poseen sus sedes y el flujo monetario neto de Inversión Extranjera Directa (IED) del país en el año 2022. El orden del reporte debe respetar la cantidad de sedes (de manera descendente). En caso de empate, ordenar alfabéticamente por nombre de país.**"
   ]
  },
  {
   "cell_type": "code",
   "execution_count": 55,
   "metadata": {},
   "outputs": [],
   "source": [
    "# para facilitar y acortar las consultas\n",
    "# queremos usar los indices de los esquemas en las consultas\n",
    "# nos ahorramos de poner la palabra esquema en cada consulta\n",
    "sedes = pd.read_csv(\"./TablasLimpias/esquema_sede.csv\")\n",
    "rrss = pd.read_csv(\"./TablasLimpias/esquema_rrss.csv\")\n",
    "pais = pd.read_csv(\"./TablasLimpias/esquema_pais.csv\")\n",
    "IED = pd.read_csv(\"./TablasLimpias/esquema_IED.csv\")"
   ]
  },
  {
   "cell_type": "code",
   "execution_count": 56,
   "metadata": {},
   "outputs": [],
   "source": [
    "consulta1 = sql ^( \"\"\"\n",
    "            SELECT DISTINCT COUNT(sede_id) AS sedes , iso3_sede , AVG(n_secciones) AS secciones_promedio\n",
    "            FROM sedes\n",
    "            GROUP BY iso3_sede\n",
    "            \"\"\")\n",
    "\n",
    "reporte_1 = sql ^( \"\"\"\n",
    "            SELECT DISTINCT nombre AS País, sedes, ROUND(secciones_promedio,2) AS secciones_promedio, ROUND(inversion,2) AS inversion_2022\n",
    "            FROM consulta1 \n",
    "            INNER JOIN pais ON consulta1.iso3_sede = pais.iso3\n",
    "            INNER JOIN IED ON consulta1.iso3_sede = IED.pais\n",
    "            WHERE IED.anio = 2022\n",
    "            ORDER BY sedes DESC,  País ASC\n",
    "            \"\"\")\n"
   ]
  },
  {
   "cell_type": "code",
   "execution_count": 57,
   "metadata": {},
   "outputs": [
    {
     "data": {
      "text/html": [
       "<div>\n",
       "<style scoped>\n",
       "    .dataframe tbody tr th:only-of-type {\n",
       "        vertical-align: middle;\n",
       "    }\n",
       "\n",
       "    .dataframe tbody tr th {\n",
       "        vertical-align: top;\n",
       "    }\n",
       "\n",
       "    .dataframe thead th {\n",
       "        text-align: right;\n",
       "    }\n",
       "</style>\n",
       "<table border=\"1\" class=\"dataframe\">\n",
       "  <thead>\n",
       "    <tr style=\"text-align: right;\">\n",
       "      <th></th>\n",
       "      <th>País</th>\n",
       "      <th>sedes</th>\n",
       "      <th>secciones_promedio</th>\n",
       "      <th>inversion_2022</th>\n",
       "    </tr>\n",
       "  </thead>\n",
       "  <tbody>\n",
       "    <tr>\n",
       "      <th>0</th>\n",
       "      <td>Brasil</td>\n",
       "      <td>11</td>\n",
       "      <td>1.64</td>\n",
       "      <td>86050.36</td>\n",
       "    </tr>\n",
       "    <tr>\n",
       "      <th>1</th>\n",
       "      <td>Estados Unidos de América</td>\n",
       "      <td>9</td>\n",
       "      <td>3.33</td>\n",
       "      <td>285057.00</td>\n",
       "    </tr>\n",
       "    <tr>\n",
       "      <th>2</th>\n",
       "      <td>Uruguay</td>\n",
       "      <td>8</td>\n",
       "      <td>0.50</td>\n",
       "      <td>3838.75</td>\n",
       "    </tr>\n",
       "    <tr>\n",
       "      <th>3</th>\n",
       "      <td>Bolivia</td>\n",
       "      <td>7</td>\n",
       "      <td>2.29</td>\n",
       "      <td>-26.36</td>\n",
       "    </tr>\n",
       "    <tr>\n",
       "      <th>4</th>\n",
       "      <td>España</td>\n",
       "      <td>7</td>\n",
       "      <td>2.29</td>\n",
       "      <td>34811.07</td>\n",
       "    </tr>\n",
       "  </tbody>\n",
       "</table>\n",
       "</div>"
      ],
      "text/plain": [
       "                        País  sedes  secciones_promedio  inversion_2022\n",
       "0                     Brasil     11                1.64        86050.36\n",
       "1  Estados Unidos de América      9                3.33       285057.00\n",
       "2                    Uruguay      8                0.50         3838.75\n",
       "3                    Bolivia      7                2.29          -26.36\n",
       "4                     España      7                2.29        34811.07"
      ]
     },
     "execution_count": 57,
     "metadata": {},
     "output_type": "execute_result"
    }
   ],
   "source": [
    "reporte_1.head()"
   ]
  },
  {
   "cell_type": "code",
   "execution_count": 58,
   "metadata": {},
   "outputs": [],
   "source": [
    "reporte_2 =sql ^( \"\"\"\n",
    "            SELECT DISTINCT region_geografica, COUNT(iso3) AS paises_con_sedes_en_Argentina, ROUND(AVG(inversion),2) AS inversiones\n",
    "            FROM pais\n",
    "            INNER JOIN IED ON pais.iso3 = IED.pais\n",
    "            WHERE pais.iso3 IN (SELECT iso3_sede FROM sedes) AND IED.anio = 2022\n",
    "            GROUP BY region_geografica\n",
    "            ORDER BY inversiones DESC\n",
    "            \"\"\") "
   ]
  },
  {
   "cell_type": "code",
   "execution_count": 59,
   "metadata": {},
   "outputs": [
    {
     "data": {
      "text/html": [
       "<div>\n",
       "<style scoped>\n",
       "    .dataframe tbody tr th:only-of-type {\n",
       "        vertical-align: middle;\n",
       "    }\n",
       "\n",
       "    .dataframe tbody tr th {\n",
       "        vertical-align: top;\n",
       "    }\n",
       "\n",
       "    .dataframe thead th {\n",
       "        text-align: right;\n",
       "    }\n",
       "</style>\n",
       "<table border=\"1\" class=\"dataframe\">\n",
       "  <thead>\n",
       "    <tr style=\"text-align: right;\">\n",
       "      <th></th>\n",
       "      <th>region_geografica</th>\n",
       "      <th>paises_con_sedes_en_Argentina</th>\n",
       "      <th>inversiones</th>\n",
       "    </tr>\n",
       "  </thead>\n",
       "  <tbody>\n",
       "    <tr>\n",
       "      <th>0</th>\n",
       "      <td>AMÉRICA  DEL  NORTE</td>\n",
       "      <td>3</td>\n",
       "      <td>124327.27</td>\n",
       "    </tr>\n",
       "    <tr>\n",
       "      <th>1</th>\n",
       "      <td>OCEANÍA</td>\n",
       "      <td>2</td>\n",
       "      <td>34584.12</td>\n",
       "    </tr>\n",
       "    <tr>\n",
       "      <th>2</th>\n",
       "      <td>ASIA</td>\n",
       "      <td>22</td>\n",
       "      <td>25863.38</td>\n",
       "    </tr>\n",
       "    <tr>\n",
       "      <th>3</th>\n",
       "      <td>AMÉRICA  DEL  SUR</td>\n",
       "      <td>11</td>\n",
       "      <td>14149.95</td>\n",
       "    </tr>\n",
       "    <tr>\n",
       "      <th>4</th>\n",
       "      <td>EUROPA  OCCIDENTAL</td>\n",
       "      <td>15</td>\n",
       "      <td>8206.08</td>\n",
       "    </tr>\n",
       "  </tbody>\n",
       "</table>\n",
       "</div>"
      ],
      "text/plain": [
       "     region_geografica  paises_con_sedes_en_Argentina  inversiones\n",
       "0  AMÉRICA  DEL  NORTE                              3    124327.27\n",
       "1              OCEANÍA                              2     34584.12\n",
       "2                 ASIA                             22     25863.38\n",
       "3    AMÉRICA  DEL  SUR                             11     14149.95\n",
       "4   EUROPA  OCCIDENTAL                             15      8206.08"
      ]
     },
     "execution_count": 59,
     "metadata": {},
     "output_type": "execute_result"
    }
   ],
   "source": [
    "reporte_2.head()"
   ]
  },
  {
   "cell_type": "code",
   "execution_count": 60,
   "metadata": {},
   "outputs": [],
   "source": [
    "reporte_3 =sql^( \"\"\"\n",
    "            SELECT nombre AS Pais, COUNT( DISTINCT plataforma) AS cant_plataformas\n",
    "            FROM rrss\n",
    "            INNER JOIN sedes ON rrss.sede_id = sedes.sede_id\n",
    "            INNER JOIN pais ON sedes.iso3_sede = pais.iso3\n",
    "            GROUP BY nombre\n",
    "            ORDER BY cant_plataformas DESC\n",
    "            \"\"\") "
   ]
  },
  {
   "cell_type": "code",
   "execution_count": 61,
   "metadata": {},
   "outputs": [
    {
     "data": {
      "text/html": [
       "<div>\n",
       "<style scoped>\n",
       "    .dataframe tbody tr th:only-of-type {\n",
       "        vertical-align: middle;\n",
       "    }\n",
       "\n",
       "    .dataframe tbody tr th {\n",
       "        vertical-align: top;\n",
       "    }\n",
       "\n",
       "    .dataframe thead th {\n",
       "        text-align: right;\n",
       "    }\n",
       "</style>\n",
       "<table border=\"1\" class=\"dataframe\">\n",
       "  <thead>\n",
       "    <tr style=\"text-align: right;\">\n",
       "      <th></th>\n",
       "      <th>Pais</th>\n",
       "      <th>cant_plataformas</th>\n",
       "    </tr>\n",
       "  </thead>\n",
       "  <tbody>\n",
       "    <tr>\n",
       "      <th>0</th>\n",
       "      <td>Estados Unidos de América</td>\n",
       "      <td>7</td>\n",
       "    </tr>\n",
       "    <tr>\n",
       "      <th>1</th>\n",
       "      <td>Bélgica</td>\n",
       "      <td>6</td>\n",
       "    </tr>\n",
       "    <tr>\n",
       "      <th>2</th>\n",
       "      <td>España</td>\n",
       "      <td>5</td>\n",
       "    </tr>\n",
       "    <tr>\n",
       "      <th>3</th>\n",
       "      <td>Canadá</td>\n",
       "      <td>5</td>\n",
       "    </tr>\n",
       "    <tr>\n",
       "      <th>4</th>\n",
       "      <td>México</td>\n",
       "      <td>4</td>\n",
       "    </tr>\n",
       "  </tbody>\n",
       "</table>\n",
       "</div>"
      ],
      "text/plain": [
       "                        Pais  cant_plataformas\n",
       "0  Estados Unidos de América                 7\n",
       "1                    Bélgica                 6\n",
       "2                     España                 5\n",
       "3                     Canadá                 5\n",
       "4                     México                 4"
      ]
     },
     "execution_count": 61,
     "metadata": {},
     "output_type": "execute_result"
    }
   ],
   "source": [
    "reporte_3.head()"
   ]
  },
  {
   "cell_type": "code",
   "execution_count": 62,
   "metadata": {},
   "outputs": [],
   "source": [
    "reporte_4 = sql^(\"\"\"\n",
    "            SELECT nombre AS Pais, rrss.sede_id AS Sede, plataforma AS Red_Social, id_rs AS URL\n",
    "            FROM rrss\n",
    "            INNER JOIN sedes ON rrss.sede_id = sedes.sede_id\n",
    "            INNER JOIN pais ON sedes.iso3_sede = pais.iso3\n",
    "            ORDER BY Pais ASC, Sede ASC, Red_Social ASC, URL ASC\n",
    "            \"\"\")"
   ]
  },
  {
   "cell_type": "code",
   "execution_count": 63,
   "metadata": {},
   "outputs": [
    {
     "data": {
      "text/html": [
       "<div>\n",
       "<style scoped>\n",
       "    .dataframe tbody tr th:only-of-type {\n",
       "        vertical-align: middle;\n",
       "    }\n",
       "\n",
       "    .dataframe tbody tr th {\n",
       "        vertical-align: top;\n",
       "    }\n",
       "\n",
       "    .dataframe thead th {\n",
       "        text-align: right;\n",
       "    }\n",
       "</style>\n",
       "<table border=\"1\" class=\"dataframe\">\n",
       "  <thead>\n",
       "    <tr style=\"text-align: right;\">\n",
       "      <th></th>\n",
       "      <th>Pais</th>\n",
       "      <th>Sede</th>\n",
       "      <th>Red_Social</th>\n",
       "      <th>URL</th>\n",
       "    </tr>\n",
       "  </thead>\n",
       "  <tbody>\n",
       "    <tr>\n",
       "      <th>0</th>\n",
       "      <td>Alemania</td>\n",
       "      <td>CBONN</td>\n",
       "      <td>Facebook</td>\n",
       "      <td>https://www.facebook.com/ConsuladoArgentinoenBonn</td>\n",
       "    </tr>\n",
       "    <tr>\n",
       "      <th>1</th>\n",
       "      <td>Alemania</td>\n",
       "      <td>CBONN</td>\n",
       "      <td>Instagram</td>\n",
       "      <td>http://www.instagram.com/consulado.argentino.bonn</td>\n",
       "    </tr>\n",
       "    <tr>\n",
       "      <th>2</th>\n",
       "      <td>Alemania</td>\n",
       "      <td>EALEM</td>\n",
       "      <td>Facebook</td>\n",
       "      <td>https://www.facebook.com/ArgEnAlemania/</td>\n",
       "    </tr>\n",
       "    <tr>\n",
       "      <th>3</th>\n",
       "      <td>Angola</td>\n",
       "      <td>EANGO</td>\n",
       "      <td>Facebook</td>\n",
       "      <td>https://www.facebook.com/ArgentinaEnAngola/</td>\n",
       "    </tr>\n",
       "    <tr>\n",
       "      <th>4</th>\n",
       "      <td>Angola</td>\n",
       "      <td>EANGO</td>\n",
       "      <td>Instagram</td>\n",
       "      <td>https://www.instagram.com/embargentinaenangola/</td>\n",
       "    </tr>\n",
       "  </tbody>\n",
       "</table>\n",
       "</div>"
      ],
      "text/plain": [
       "       Pais   Sede Red_Social  \\\n",
       "0  Alemania  CBONN   Facebook   \n",
       "1  Alemania  CBONN  Instagram   \n",
       "2  Alemania  EALEM   Facebook   \n",
       "3    Angola  EANGO   Facebook   \n",
       "4    Angola  EANGO  Instagram   \n",
       "\n",
       "                                                 URL  \n",
       "0  https://www.facebook.com/ConsuladoArgentinoenBonn  \n",
       "1  http://www.instagram.com/consulado.argentino.bonn  \n",
       "2            https://www.facebook.com/ArgEnAlemania/  \n",
       "3        https://www.facebook.com/ArgentinaEnAngola/  \n",
       "4    https://www.instagram.com/embargentinaenangola/  "
      ]
     },
     "execution_count": 63,
     "metadata": {},
     "output_type": "execute_result"
    }
   ],
   "source": [
    "reporte_4.head()"
   ]
  },
  {
   "cell_type": "markdown",
   "metadata": {},
   "source": [
    "<h1>Visualizacion</h1>"
   ]
  },
  {
   "cell_type": "markdown",
   "metadata": {},
   "source": [
    "<h2>1</h2>\n",
    "<hr>"
   ]
  },
  {
   "cell_type": "code",
   "execution_count": 64,
   "metadata": {},
   "outputs": [
    {
     "data": {
      "text/plain": [
       "([0, 1, 2, 3, 4, 5, 6, 7, 8],\n",
       " [Text(0, 0, 'ASIA'),\n",
       "  Text(1, 0, 'EUROPA  OCCIDENTAL'),\n",
       "  Text(2, 0, 'AMÉRICA  DEL  SUR'),\n",
       "  Text(3, 0, 'AMÉRICA  CENTRAL  Y  CARIBE'),\n",
       "  Text(4, 0, 'EUROPA  CENTRAL  Y  ORIENTAL'),\n",
       "  Text(5, 0, 'ÁFRICA  SUBSAHARIANA'),\n",
       "  Text(6, 0, 'ÁFRICA  DEL  NORTE  Y  CERCANO  ORIENTE'),\n",
       "  Text(7, 0, 'AMÉRICA  DEL  NORTE'),\n",
       "  Text(8, 0, 'OCEANÍA')])"
      ]
     },
     "execution_count": 64,
     "metadata": {},
     "output_type": "execute_result"
    },
    {
     "data": {
      "image/png": "[encoded data removed]",
      "text/plain": [
       "<Figure size 640x480 with 1 Axes>"
      ]
     },
     "metadata": {},
     "output_type": "display_data"
    }
   ],
   "source": [
    "# Creamos el gráfico de barras\n",
    "paleta_verde = [\"#008000\",\"#008A00\",\"#009400\",\"#009E00\",\"#00A800\",\"#00B200\",\"#00BC00\",\"#00C600\",\"#00D000\"]\n",
    "\n",
    "fig, ax = plt.subplots()\n",
    "plt.rcParams['font.family'] = 'sans-serif'\n",
    "plt.rcParams['font.size'] = 9.0\n",
    "\n",
    "# Graficar el diagrama de barras\n",
    "ax.bar(data = reporte_2.sort_values(by='paises_con_sedes_en_Argentina', ascending=False),\n",
    "       x='region_geografica', height='paises_con_sedes_en_Argentina', \n",
    "       color=paleta_verde)\n",
    "\n",
    "# Añadimos etiquetas y título\n",
    "ax.set_xlabel('Región Geográfica')  \n",
    "ax.set_ylabel('Número de Sedes Argentinas')\n",
    "ax.set_title('Número de Sedes Argentinas por Región Geográfica')\n",
    "\n",
    "# Rotamos las etiquetas del eje x \n",
    "plt.xticks(rotation=45, ha='right')"
   ]
  },
  {
   "cell_type": "markdown",
   "metadata": {},
   "source": [
    "<h2>2</h2>\n",
    "<hr>"
   ]
  },
  {
   "cell_type": "code",
   "execution_count": 65,
   "metadata": {},
   "outputs": [],
   "source": [
    "# tabla intermedia a usar en la siguiente consulta,\n",
    "# obtiene el porcentaje de inversion 2018-22 por cada pais.\n",
    "avg_inversion_pais = sql ^(\"\"\"\n",
    "                    SELECT pais, ROUND(AVG(inversion), 2) AS avg_inversion\n",
    "                    FROM esquema_IED\n",
    "                    GROUP BY pais\n",
    "                    \"\"\")"
   ]
  },
  {
   "cell_type": "code",
   "execution_count": 66,
   "metadata": {},
   "outputs": [],
   "source": [
    "consulta_boxplot = sql ^(\"\"\"\n",
    "                SELECT p.region_geografica, avg.avg_inversion AS promedio_inversiones\n",
    "                FROM pais p INNER JOIN avg_inversion_pais avg\n",
    "                ON p.iso3 = avg.pais\n",
    "                WHERE p.iso3 IN (SELECT iso3_sede FROM sedes)\n",
    "                \"\"\")"
   ]
  },
  {
   "cell_type": "markdown",
   "metadata": {},
   "source": [
    "Calculemos la mediana de inversion para cada pais, esto servirá para ordenarlos."
   ]
  },
  {
   "cell_type": "code",
   "execution_count": 67,
   "metadata": {},
   "outputs": [],
   "source": [
    "medianas_region = {}\n",
    "for region in consulta_boxplot[\"region_geografica\"].unique():\n",
    "    mediana = consulta_boxplot[consulta_boxplot[\"region_geografica\"] == region][\"promedio_inversiones\"].median()\n",
    "    medianas_region[region] = mediana"
   ]
  },
  {
   "cell_type": "code",
   "execution_count": 68,
   "metadata": {},
   "outputs": [
    {
     "data": {
      "text/plain": [
       "([0, 1, 2, 3, 4, 5, 6, 7, 8],\n",
       " [Text(0, 0, 'AMÉRICA  CENTRAL  Y  CARIBE'),\n",
       "  Text(1, 0, 'ÁFRICA  DEL  NORTE  Y  CERCANO  ORIENTE'),\n",
       "  Text(2, 0, 'ÁFRICA  SUBSAHARIANA'),\n",
       "  Text(3, 0, 'AMÉRICA  DEL  SUR'),\n",
       "  Text(4, 0, 'EUROPA  CENTRAL  Y  ORIENTAL'),\n",
       "  Text(5, 0, 'EUROPA  OCCIDENTAL'),\n",
       "  Text(6, 0, 'ASIA'),\n",
       "  Text(7, 0, 'OCEANÍA'),\n",
       "  Text(8, 0, 'AMÉRICA  DEL  NORTE')])"
      ]
     },
     "execution_count": 68,
     "metadata": {},
     "output_type": "execute_result"
    },
    {
     "data": {
      "text/plain": [
       "<Figure size 640x480 with 0 Axes>"
      ]
     },
     "metadata": {},
     "output_type": "display_data"
    },
    {
     "data": {
      "image/png": "[encoded data removed]",
      "text/plain": [
       "<Figure size 640x480 with 1 Axes>"
      ]
     },
     "metadata": {},
     "output_type": "display_data"
    }
   ],
   "source": [
    "plt.clf()\n",
    "fig, ax = plt.subplots()\n",
    "\n",
    "ax = sns.boxplot(x=\"region_geografica\", \n",
    "                 y=\"promedio_inversiones\",  \n",
    "                 data=consulta_boxplot,\n",
    "                 order = sorted(medianas_region, key=medianas_region.get)\n",
    "                 )\n",
    "\n",
    "# Añadimos etiquetas y título\n",
    "plt.xlabel('Región Geográfica')\n",
    "plt.ylabel('Promedio de Inversiones')\n",
    "plt.title('Boxplot del Promedio de Inversiones por Región Geográfica')\n",
    "\n",
    "plt.xticks(rotation=45, ha='right')\n"
   ]
  },
  {
   "cell_type": "code",
   "execution_count": 69,
   "metadata": {},
   "outputs": [
    {
     "data": {
      "text/plain": [
       "[Text(0, 0, '86050.4'),\n",
       " Text(0, 0, '285057'),\n",
       " Text(0, 0, '23139.3'),\n",
       " Text(0, 0, '3838.75'),\n",
       " Text(0, 0, '17392.4'),\n",
       " Text(0, 0, '104459'),\n",
       " Text(0, 0, '35291.6'),\n",
       " Text(0, 0, '7023.58'),\n",
       " Text(0, 0, '21026.7')]"
      ]
     },
     "execution_count": 69,
     "metadata": {},
     "output_type": "execute_result"
    },
    {
     "data": {
      "image/png": "[encoded data removed]",
      "text/plain": [
       "<Figure size 640x480 with 1 Axes>"
      ]
     },
     "metadata": {},
     "output_type": "display_data"
    }
   ],
   "source": [
    "sedes_vs_inversion = sql^(\"\"\"\n",
    "        SELECT sedes, AVG(inversion_2022) AS promedio_de_inversiones\n",
    "        FROM reporte_1\n",
    "        GROUP BY sedes\n",
    "            \"\"\")\n",
    "            \n",
    "sedes_vs_inversion = sedes_vs_inversion[(sedes_vs_inversion['promedio_de_inversiones'] > 0)]\n",
    "\n",
    "fig, ax = plt.subplots()\n",
    "\n",
    "q_95 = sedes_vs_inversion[\"promedio_de_inversiones\"].quantile(0.95)\n",
    "q_75 = sedes_vs_inversion[\"promedio_de_inversiones\"].quantile(0.75)\n",
    "q_50 = sedes_vs_inversion[\"promedio_de_inversiones\"].quantile(0.50)\n",
    "q_25 = sedes_vs_inversion[\"promedio_de_inversiones\"].quantile(0.25)\n",
    "\n",
    "def asignar_intensidad(avg):\n",
    "    if avg >= q_95:\n",
    "        return \"#FF0000\"\n",
    "    elif avg >= q_75:\n",
    "        return \"#FF3333\"\n",
    "    elif avg >= q_50:\n",
    "        return \"#FF6666\"\n",
    "    else:\n",
    "        return \"#FFCCCC\"\n",
    "\n",
    "colores = [asignar_intensidad(avg) for avg in sedes_vs_inversion['promedio_de_inversiones']]\n",
    "\n",
    "plt.rcParams['font.family'] = 'sans-serif'           \n",
    "\n",
    "\n",
    "ax.bar(data=sedes_vs_inversion, x='sedes', height='promedio_de_inversiones', color = colores)\n",
    "       \n",
    "ax.set_title('Relacion de Cantidad de Sedes - Inversiones 2022')\n",
    "ax.set_xlabel('cantidad de sedes', fontsize='medium')                       \n",
    "ax.set_ylabel('Promedio de Inversiones (M U$S) por cantidad de sedes', fontsize='medium')    \n",
    "ax.set_xlim(0, 12)\n",
    "ax.set_ylim(0, max(sedes_vs_inversion[\"promedio_de_inversiones\"] + 15000))\n",
    "\n",
    "ax.set_xticks(range(1,12,1))               # Muestra todos los ticks del eje x\n",
    "ax.set_yticks([])                          # Remueve los ticks del eje y\n",
    "ax.bar_label(ax.containers[0], fontsize=8) "
   ]
  },
  {
   "cell_type": "markdown",
   "metadata": {},
   "source": [
    "Notamos que estó no nos da información tan util, se puede pensar en el principio de Pareto, pero todavía no se ve ninguna tendendcia.\n",
    "Cambiemos un poco el gráfico para tomar intervalos de cantidad de sedes mejor."
   ]
  },
  {
   "cell_type": "code",
   "execution_count": null,
   "metadata": {},
   "outputs": [],
   "source": [
    "sedes_vs_inversion = sql^(\"\"\"\n",
    "        SELECT CASE WHEN sedes < 3 THEN '0-2'\n",
    "                WHEN sedes >= 3 AND sedes < 6 THEN '3-5'\n",
    "                WHEN sedes >= 6 AND sedes < 9 THEN '6-8'\n",
    "                WHEN sedes >= 9 THEN '9-max'\n",
    "                END AS sedes, \n",
    "                AVG(inversion_2022) AS promedio_de_inversiones\n",
    "        FROM reporte_1\n",
    "        GROUP BY sedes\n",
    "        ORDER BY sedes\n",
    "            \"\"\")\n",
    "            \n",
    "sedes_vs_inversion = sedes_vs_inversion[(sedes_vs_inversion['promedio_de_inversiones'] > 0)]\n",
    "\n",
    "fig, ax = plt.subplots()\n",
    "\n",
    "q_95 = sedes_vs_inversion[\"promedio_de_inversiones\"].quantile(0.95)\n",
    "q_75 = sedes_vs_inversion[\"promedio_de_inversiones\"].quantile(0.75)\n",
    "q_50 = sedes_vs_inversion[\"promedio_de_inversiones\"].quantile(0.50)\n",
    "q_25 = sedes_vs_inversion[\"promedio_de_inversiones\"].quantile(0.25)\n",
    "\n",
    "def asignar_intensidad(avg):\n",
    "    if avg >= q_95:\n",
    "        return \"#FF0000\"\n",
    "    elif avg >= q_75:\n",
    "        return \"#FF3333\"\n",
    "    elif avg >= q_50:\n",
    "        return \"#FF6666\"\n",
    "    else:\n",
    "        return \"#FFCCCC\"\n",
    "\n",
    "colores = [asignar_intensidad(avg) for avg in sedes_vs_inversion['promedio_de_inversiones']]\n",
    "\n",
    "plt.rcParams['font.family'] = 'sans-serif'           \n",
    "\n",
    "\n",
    "ax.bar(data=sedes_vs_inversion, x='sedes', height='promedio_de_inversiones', color = colores)\n",
    "       \n",
    "ax.set_title('Relacion de Cantidad de Sedes - Inversiones 2022')\n",
    "ax.set_xlabel('cantidad de sedes', fontsize='medium')                       \n",
    "ax.set_ylabel('Promedio de Inversiones (M U$S) por cantidad de sedes', fontsize='medium')    \n",
    "ax.set_ylim(0, max(sedes_vs_inversion[\"promedio_de_inversiones\"] + 15000))"
   ]
  },
  {
   "cell_type": "code",
   "execution_count": 70,
   "metadata": {},
   "outputs": [
    {
     "data": {
      "image/png": "[encoded data removed]",
      "text/plain": [
       "<Figure size 640x480 with 1 Axes>"
      ]
     },
     "metadata": {},
     "output_type": "display_data"
    },
    {
     "data": {
      "text/plain": [
       "<Figure size 2800x2000 with 0 Axes>"
      ]
     },
     "metadata": {},
     "output_type": "display_data"
    }
   ],
   "source": [
    "# Filtramos los datos por numero de sedes e inversion\n",
    "reporte_1_positivos = reporte_1[(reporte_1['inversion_2022'] > 0) & ((reporte_1['sedes'] >= 2) | (reporte_1['inversion_2022'] > 10000)) ]\n",
    "\n",
    "\n",
    "# Ordenamos los datos por inversión en 2022 de forma descendente\n",
    "reporte_1_sorted = reporte_1_positivos.sort_values(by='inversion_2022', ascending=False)\n",
    "\n",
    "# Creamos el gráfico de barras\n",
    "fig, ax = plt.subplots()\n",
    "\n",
    "colores = ['red' if pais in [\"Uruguay\",\"Chile\",\"Paraguay\",\"Brasil\",\"Bolivia\"] else 'skyblue' for pais in reporte_1_sorted['País']]\n",
    "\n",
    "ax.bar(data=reporte_1_sorted, x='País', height='inversion_2022', width=0.5, color = colores)\n",
    "\n",
    "# Añadimos números de sedes como anotaciones en las barras\n",
    "for i, (pais, inversion, sedes) in enumerate(zip(reporte_1_sorted['País'], reporte_1_sorted['inversion_2022'], reporte_1_sorted['sedes'])):\n",
    "  ax.text(i, inversion + 10000, str(sedes), ha='center', va='bottom', rotation=0,  fontsize='5')\n",
    "\n",
    "# Establecemos título y etiquetas\n",
    "ax.set_title('Relación Cantidad de Sedes - IED 2022')\n",
    "ax.set_xlabel('Países y su cantidad de sedes')\n",
    "ax.set_ylabel('IED 2022 (M U$S)')\n",
    "ax.set_xlim(-1, 11)\n",
    "\n",
    "# Asignamos un tick a cada barra en el eje x\n",
    "ax.set_xticks(range(len(reporte_1_sorted)))\n",
    "ax.set_xticklabels(reporte_1_sorted['País'], rotation=90)\n",
    "\n",
    "# Achicamos y rotamos ticks\n",
    "plt.xticks(rotation=90)\n",
    "plt.xticks(size=6)\n",
    "ax.tick_params(axis='y', labelsize='7')\n",
    "\n",
    "# Aumentamos un poco la calidad\n",
    "plt.figure(figsize=(14, 10), dpi=200)\n",
    "\n",
    "\n",
    "# Saco los bordes de arriba y la derecha\n",
    "ax.spines['top'].set_visible(False)\n",
    "ax.spines['right'].set_visible(False)"
   ]
  }
 ],
 "metadata": {
  "kernelspec": {
   "display_name": "venv",
   "language": "python",
   "name": "python3"
  },
  "language_info": {
   "codemirror_mode": {
    "name": "ipython",
    "version": 3
   },
   "file_extension": ".py",
   "mimetype": "text/x-python",
   "name": "python",
   "nbconvert_exporter": "python",
   "pygments_lexer": "ipython3",
   "version": "3.11.0"
  }
 },
 "nbformat": 4,
 "nbformat_minor": 2
}
