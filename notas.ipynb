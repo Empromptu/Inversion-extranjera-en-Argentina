{
 "cells": [
  {
   "cell_type": "markdown",
   "metadata": {},
   "source": [
    "<h1>Cuaderno de notas TP1 laboratorio de Datos</h1>"
   ]
  },
  {
   "cell_type": "code",
   "execution_count": 2,
   "metadata": {},
   "outputs": [],
   "source": [
    "import pandas as pd\n",
    "import numpy as np\n",
    "import matplotlib.pyplot as plt\n",
    "from inline_sql import sql, sql_val"
   ]
  },
  {
   "cell_type": "markdown",
   "metadata": {},
   "source": [
    "<h2>Importamos las tablas de datos</h2>"
   ]
  },
  {
   "cell_type": "code",
   "execution_count": 13,
   "metadata": {},
   "outputs": [
    {
     "name": "stderr",
     "output_type": "stream",
     "text": [
      "C:\\Users\\guido\\AppData\\Local\\Temp\\ipykernel_6228\\1485053307.py:2: ParserWarning: Skipping line 16: expected 37 fields, saw 38\n",
      "\n",
      "  df_sedes_completo = pd.read_csv(direccion + 'lista-sedes-datos.csv', on_bad_lines=\"warn\")\n"
     ]
    }
   ],
   "source": [
    "direccion = './TablasOriginales/'\n",
    "df_sedes_completo = pd.read_csv(direccion + 'lista-sedes-datos.csv', on_bad_lines=\"warn\")\n",
    "# se agrega on_bad_lines, pues hay un error en la linea 16 del csv, con esto se logra ignorarla\n",
    "df_sedes = pd.read_csv(direccion + 'lista-sedes.csv')\n",
    "df_secciones = pd.read_csv(direccion + 'lista-secciones.csv')\n",
    "archivo_inversiones = 'flujos-monetarios-netos-inversion-extranjera-directa.csv'\n",
    "df_IED = pd.read_csv(direccion + archivo_inversiones) # IED = Inversion Extranjera Directa\n",
    "df_paises = pd.read_csv(direccion + 'paises.csv')"
   ]
  },
  {
   "cell_type": "markdown",
   "metadata": {},
   "source": [
    "Para una descripcion mas completa de cada columna visitar ver los links en las indicaciones del TP"
   ]
  },
  {
   "cell_type": "markdown",
   "metadata": {},
   "source": [
    "<hr>"
   ]
  },
  {
   "cell_type": "markdown",
   "metadata": {},
   "source": [
    "<h2>Veamos las propiedades de cada tabla</h2>"
   ]
  }
 ],
 "metadata": {
  "kernelspec": {
   "display_name": "venv",
   "language": "python",
   "name": "python3"
  },
  "language_info": {
   "codemirror_mode": {
    "name": "ipython",
    "version": 3
   },
   "file_extension": ".py",
   "mimetype": "text/x-python",
   "name": "python",
   "nbconvert_exporter": "python",
   "pygments_lexer": "ipython3",
   "version": "3.11.0"
  }
 },
 "nbformat": 4,
 "nbformat_minor": 2
}
